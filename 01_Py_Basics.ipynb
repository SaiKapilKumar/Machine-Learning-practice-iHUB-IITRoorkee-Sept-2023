{
 "cells": [
  {
   "cell_type": "markdown",
   "id": "cdc61879",
   "metadata": {
    "collapsed": true
   },
   "source": [
    "### Numbers"
   ]
  },
  {
   "cell_type": "code",
   "execution_count": 4,
   "id": "e582939e",
   "metadata": {},
   "outputs": [
    {
     "data": {
      "text/plain": [
       "3"
      ]
     },
     "execution_count": 4,
     "metadata": {},
     "output_type": "execute_result"
    }
   ],
   "source": [
    "# integer number\n",
    "\n",
    "3"
   ]
  },
  {
   "cell_type": "code",
   "execution_count": 27,
   "id": "43a3eea9",
   "metadata": {},
   "outputs": [
    {
     "data": {
      "text/plain": [
       "'a'"
      ]
     },
     "execution_count": 27,
     "metadata": {},
     "output_type": "execute_result"
    }
   ],
   "source": [
    "'a'"
   ]
  },
  {
   "cell_type": "code",
   "execution_count": null,
   "id": "9134c5ae",
   "metadata": {},
   "outputs": [],
   "source": [
    "# floating number\n",
    "3.17\n"
   ]
  },
  {
   "cell_type": "code",
   "execution_count": null,
   "id": "593975ab",
   "metadata": {},
   "outputs": [],
   "source": [
    "3.22"
   ]
  },
  {
   "cell_type": "code",
   "execution_count": null,
   "id": "289b2c33",
   "metadata": {},
   "outputs": [],
   "source": [
    "# addition\n",
    "\n",
    "5 + 7.8"
   ]
  },
  {
   "cell_type": "code",
   "execution_count": null,
   "id": "81c5d592",
   "metadata": {},
   "outputs": [],
   "source": [
    "# multiplication\n",
    "\n",
    "3*4"
   ]
  },
  {
   "cell_type": "code",
   "execution_count": null,
   "id": "50e059f6",
   "metadata": {},
   "outputs": [],
   "source": [
    "# division\n",
    "\n",
    "2/9"
   ]
  },
  {
   "cell_type": "code",
   "execution_count": null,
   "id": "3a735c8c",
   "metadata": {},
   "outputs": [],
   "source": [
    "# integer-division\n",
    "\n",
    "print(2//9) \n",
    "print(3//2)"
   ]
  },
  {
   "cell_type": "code",
   "execution_count": null,
   "id": "34262527",
   "metadata": {},
   "outputs": [],
   "source": [
    "# power\n",
    "\n",
    "3**2"
   ]
  },
  {
   "cell_type": "code",
   "execution_count": null,
   "id": "8bc1e2e6",
   "metadata": {},
   "outputs": [],
   "source": [
    "# Order of operation (BODMAS)\n",
    "\n",
    "print(2 + 3 * 4 + 5)\n",
    "print((2+3)*(4+5))"
   ]
  },
  {
   "cell_type": "markdown",
   "id": "3fa494da",
   "metadata": {},
   "source": [
    "# Variable Assignment"
   ]
  },
  {
   "cell_type": "code",
   "execution_count": null,
   "id": "e2671ba0",
   "metadata": {},
   "outputs": [],
   "source": [
    "x = 2 "
   ]
  },
  {
   "cell_type": "code",
   "execution_count": null,
   "id": "d8ffec47",
   "metadata": {},
   "outputs": [],
   "source": [
    "print(x)"
   ]
  },
  {
   "cell_type": "code",
   "execution_count": null,
   "id": "beed049b",
   "metadata": {},
   "outputs": [],
   "source": [
    "var_new = 2\n",
    "print(var_new)"
   ]
  },
  {
   "cell_type": "code",
   "execution_count": null,
   "id": "a280aca1",
   "metadata": {},
   "outputs": [],
   "source": [
    "y = 3\n",
    "z = x + y\n",
    "print(z)"
   ]
  },
  {
   "cell_type": "code",
   "execution_count": null,
   "id": "bc5a439f",
   "metadata": {
    "scrolled": true
   },
   "outputs": [],
   "source": [
    "print(z + z)"
   ]
  },
  {
   "cell_type": "markdown",
   "id": "919ae501",
   "metadata": {},
   "source": [
    "# Strings"
   ]
  },
  {
   "cell_type": "code",
   "execution_count": null,
   "id": "d307b921",
   "metadata": {},
   "outputs": [],
   "source": [
    "'you can use single quotes'"
   ]
  },
  {
   "cell_type": "code",
   "execution_count": null,
   "id": "100c6877",
   "metadata": {},
   "outputs": [],
   "source": [
    "\"You can also use double quotes\""
   ]
  },
  {
   "cell_type": "code",
   "execution_count": null,
   "id": "f1f91d44",
   "metadata": {},
   "outputs": [],
   "source": [
    "\"Let's do this!\""
   ]
  },
  {
   "cell_type": "code",
   "execution_count": null,
   "id": "70552bbb",
   "metadata": {},
   "outputs": [],
   "source": [
    "'Let\\'s do this'"
   ]
  },
  {
   "cell_type": "markdown",
   "id": "1aa6ce13",
   "metadata": {},
   "source": [
    "# Print \n"
   ]
  },
  {
   "cell_type": "code",
   "execution_count": null,
   "id": "9da1b3b4",
   "metadata": {},
   "outputs": [],
   "source": [
    "x = 'hello'\n",
    "print(x)"
   ]
  },
  {
   "cell_type": "code",
   "execution_count": null,
   "id": "fbb5b77f",
   "metadata": {},
   "outputs": [],
   "source": [
    "x"
   ]
  },
  {
   "cell_type": "code",
   "execution_count": null,
   "id": "496849eb",
   "metadata": {},
   "outputs": [],
   "source": [
    "num = 11 \n",
    "name = 'mlpp'\n",
    "print(str(num) + name)"
   ]
  },
  {
   "cell_type": "code",
   "execution_count": null,
   "id": "506cff57",
   "metadata": {
    "scrolled": true
   },
   "outputs": [],
   "source": [
    "'My number is : {} and My name is: {}'.format(num,name)"
   ]
  },
  {
   "cell_type": "code",
   "execution_count": null,
   "id": "50af93f7",
   "metadata": {},
   "outputs": [],
   "source": [
    "print(f\"My name is {name} and My number is {num}\")"
   ]
  },
  {
   "cell_type": "code",
   "execution_count": null,
   "id": "9fb69e81",
   "metadata": {},
   "outputs": [],
   "source": [
    "print('My number is: {one} and my name is: {two}'.format(one = num, two = name))"
   ]
  },
  {
   "cell_type": "code",
   "execution_count": null,
   "id": "640fd81b",
   "metadata": {
    "scrolled": false
   },
   "outputs": [],
   "source": [
    "print('My number is: {1} and my name is: {2}'.format(1 = num, 2 = name))"
   ]
  },
  {
   "cell_type": "markdown",
   "id": "91b935e5",
   "metadata": {},
   "source": [
    "# Grabbing and Slicing"
   ]
  },
  {
   "cell_type": "code",
   "execution_count": null,
   "id": "d4e4f96e",
   "metadata": {},
   "outputs": [],
   "source": [
    "s = 'hello'"
   ]
  },
  {
   "cell_type": "code",
   "execution_count": null,
   "id": "e8ffac51",
   "metadata": {},
   "outputs": [],
   "source": [
    "print(s[0])"
   ]
  },
  {
   "cell_type": "code",
   "execution_count": null,
   "id": "2eaea364",
   "metadata": {},
   "outputs": [],
   "source": [
    "print(s[-5])"
   ]
  },
  {
   "cell_type": "code",
   "execution_count": null,
   "id": "693e3550",
   "metadata": {
    "scrolled": true
   },
   "outputs": [],
   "source": [
    "print(s[4])"
   ]
  },
  {
   "cell_type": "code",
   "execution_count": null,
   "id": "937f6716",
   "metadata": {},
   "outputs": [],
   "source": [
    "print(s[-1])"
   ]
  },
  {
   "cell_type": "code",
   "execution_count": null,
   "id": "c0639477",
   "metadata": {},
   "outputs": [],
   "source": [
    "if ((s[1])==(s[-4])):\n",
    "    print(\"Both are equal\")"
   ]
  },
  {
   "cell_type": "markdown",
   "id": "8ea5d487",
   "metadata": {},
   "source": [
    "### Slicing"
   ]
  },
  {
   "cell_type": "code",
   "execution_count": null,
   "id": "5a0b3a25",
   "metadata": {},
   "outputs": [],
   "source": [
    "s[1:]"
   ]
  },
  {
   "cell_type": "code",
   "execution_count": null,
   "id": "90e7fb38",
   "metadata": {},
   "outputs": [],
   "source": [
    "s[:4]"
   ]
  },
  {
   "cell_type": "code",
   "execution_count": null,
   "id": "1ad52728",
   "metadata": {},
   "outputs": [],
   "source": [
    "s[1:4]"
   ]
  },
  {
   "cell_type": "code",
   "execution_count": null,
   "id": "632a521a",
   "metadata": {},
   "outputs": [],
   "source": [
    "s[2:4]"
   ]
  },
  {
   "cell_type": "code",
   "execution_count": null,
   "id": "b3cc094c",
   "metadata": {},
   "outputs": [],
   "source": [
    "s1 = 'Excellent'"
   ]
  },
  {
   "cell_type": "code",
   "execution_count": null,
   "id": "9ea8b042",
   "metadata": {},
   "outputs": [],
   "source": [
    "s1[2:6]"
   ]
  },
  {
   "cell_type": "code",
   "execution_count": null,
   "id": "0e8f78e8",
   "metadata": {
    "scrolled": true
   },
   "outputs": [],
   "source": [
    "s1[-7:-3]"
   ]
  },
  {
   "cell_type": "code",
   "execution_count": null,
   "id": "54967d1d",
   "metadata": {},
   "outputs": [],
   "source": [
    "print(s1[2:6])\n",
    "print(s1[-7:-3])"
   ]
  },
  {
   "cell_type": "markdown",
   "id": "bf76303e",
   "metadata": {},
   "source": [
    "# Lists \n",
    "is a sequence of elements in a square bracket"
   ]
  },
  {
   "cell_type": "code",
   "execution_count": null,
   "id": "bda730f8",
   "metadata": {},
   "outputs": [],
   "source": [
    "[4,5,6]"
   ]
  },
  {
   "cell_type": "code",
   "execution_count": null,
   "id": "84f1f338",
   "metadata": {},
   "outputs": [],
   "source": [
    "['hi',1,4]"
   ]
  },
  {
   "cell_type": "code",
   "execution_count": null,
   "id": "34d2b4af",
   "metadata": {},
   "outputs": [],
   "source": [
    "list = [4,5,6]"
   ]
  },
  {
   "cell_type": "code",
   "execution_count": null,
   "id": "e04ca305",
   "metadata": {},
   "outputs": [],
   "source": [
    "list"
   ]
  },
  {
   "cell_type": "code",
   "execution_count": null,
   "id": "ad499dfd",
   "metadata": {
    "scrolled": true
   },
   "outputs": [],
   "source": [
    "# append\n",
    "list.append(7)\n",
    "print(list)"
   ]
  },
  {
   "cell_type": "code",
   "execution_count": null,
   "id": "1148e7d7",
   "metadata": {},
   "outputs": [],
   "source": [
    "list"
   ]
  },
  {
   "cell_type": "code",
   "execution_count": null,
   "id": "04f346e2",
   "metadata": {},
   "outputs": [],
   "source": [
    "new_list = list[0:3]"
   ]
  },
  {
   "cell_type": "code",
   "execution_count": null,
   "id": "1ecdb17c",
   "metadata": {},
   "outputs": [],
   "source": [
    "new_list"
   ]
  },
  {
   "cell_type": "code",
   "execution_count": null,
   "id": "20e8292e",
   "metadata": {},
   "outputs": [],
   "source": [
    "new_list.append('added')"
   ]
  },
  {
   "cell_type": "code",
   "execution_count": null,
   "id": "b9528018",
   "metadata": {},
   "outputs": [],
   "source": [
    "nst1 = ['hi',[3,4],8,6,341,'the',['hi','city']]"
   ]
  },
  {
   "cell_type": "code",
   "execution_count": null,
   "id": "75ebb606",
   "metadata": {},
   "outputs": [],
   "source": [
    "nst1[-1][-1]"
   ]
  },
  {
   "cell_type": "code",
   "execution_count": null,
   "id": "a86b82e9",
   "metadata": {},
   "outputs": [],
   "source": [
    "nst1[6][1]"
   ]
  },
  {
   "cell_type": "code",
   "execution_count": null,
   "id": "b5fb74eb",
   "metadata": {},
   "outputs": [],
   "source": [
    "nst2 = [1,4,5,2,[5,1,2,756,[54,999,10000,[34,98,[21]]]]]"
   ]
  },
  {
   "cell_type": "code",
   "execution_count": null,
   "id": "0cb7cda9",
   "metadata": {},
   "outputs": [],
   "source": [
    "nst2[4][4][3][2][0]"
   ]
  },
  {
   "cell_type": "markdown",
   "id": "3e29e59b",
   "metadata": {},
   "source": [
    "# Dictionary\n",
    "\n",
    "Dictionaries are key value pairs wrapped in curly bracket\n",
    "They do not retain any order."
   ]
  },
  {
   "cell_type": "code",
   "execution_count": null,
   "id": "c0fd6f09",
   "metadata": {},
   "outputs": [],
   "source": [
    "dic = {'k1':'value1',\n",
    "       'k2':456}"
   ]
  },
  {
   "cell_type": "code",
   "execution_count": null,
   "id": "6a1e39c3",
   "metadata": {},
   "outputs": [],
   "source": [
    "dic['k2']"
   ]
  },
  {
   "cell_type": "code",
   "execution_count": null,
   "id": "0e1c8b55",
   "metadata": {},
   "outputs": [],
   "source": [
    "dic1 = {'x1':['i1','i2'],\n",
    "       'x2':[7,6,9]}"
   ]
  },
  {
   "cell_type": "code",
   "execution_count": null,
   "id": "232a7ebc",
   "metadata": {},
   "outputs": [],
   "source": [
    "dic1['x1'][1][1]"
   ]
  },
  {
   "cell_type": "code",
   "execution_count": null,
   "id": "4fb89717",
   "metadata": {},
   "outputs": [],
   "source": [
    "nst_d = {'n1':{'x1':{'a1':1},\n",
    "               'x2':['hello sir',19,32],\n",
    "               'x3':['kapil',123]\n",
    "              }\n",
    "        }"
   ]
  },
  {
   "cell_type": "code",
   "execution_count": null,
   "id": "65fb18ed",
   "metadata": {},
   "outputs": [],
   "source": [
    "nst_d['n1']['x1']['a1']"
   ]
  },
  {
   "cell_type": "code",
   "execution_count": null,
   "id": "c581afd6",
   "metadata": {},
   "outputs": [],
   "source": [
    "nst_d['n1']['x2'][-2]"
   ]
  },
  {
   "cell_type": "code",
   "execution_count": null,
   "id": "b38f5bbf",
   "metadata": {},
   "outputs": [],
   "source": [
    "print(f\"My name is {nst_d['n1']['x3'][0]}\")"
   ]
  },
  {
   "cell_type": "markdown",
   "id": "aba44633",
   "metadata": {},
   "source": [
    "# Tuples"
   ]
  },
  {
   "cell_type": "code",
   "execution_count": null,
   "id": "6a0981e6",
   "metadata": {},
   "outputs": [],
   "source": [
    "t = [1,2,3]"
   ]
  },
  {
   "cell_type": "code",
   "execution_count": null,
   "id": "17ed18a2",
   "metadata": {},
   "outputs": [],
   "source": [
    "t"
   ]
  },
  {
   "cell_type": "code",
   "execution_count": null,
   "id": "143807f4",
   "metadata": {},
   "outputs": [],
   "source": [
    "t[0]=99"
   ]
  },
  {
   "cell_type": "code",
   "execution_count": null,
   "id": "d8fd66de",
   "metadata": {},
   "outputs": [],
   "source": [
    "t"
   ]
  },
  {
   "cell_type": "code",
   "execution_count": null,
   "id": "3b8c52c2",
   "metadata": {},
   "outputs": [],
   "source": [
    "tup = (1,2,3)"
   ]
  },
  {
   "cell_type": "code",
   "execution_count": null,
   "id": "f0ae8b67",
   "metadata": {},
   "outputs": [],
   "source": [
    "tup[0] = -1"
   ]
  },
  {
   "cell_type": "code",
   "execution_count": null,
   "id": "d3232737",
   "metadata": {},
   "outputs": [],
   "source": [
    "len(t)"
   ]
  },
  {
   "cell_type": "code",
   "execution_count": null,
   "id": "09bf6229",
   "metadata": {},
   "outputs": [],
   "source": [
    "for i in len(t):\n",
    "    print(t[1])"
   ]
  },
  {
   "cell_type": "markdown",
   "id": "92db13f5",
   "metadata": {},
   "source": [
    "# Sets\n",
    "\n",
    "Unique elements"
   ]
  },
  {
   "cell_type": "code",
   "execution_count": 6,
   "id": "4dabd7e9",
   "metadata": {},
   "outputs": [],
   "source": [
    "s = {1,2,3,4,5,6,1,4,2,9,3}"
   ]
  },
  {
   "cell_type": "code",
   "execution_count": 7,
   "id": "4fcc9242",
   "metadata": {},
   "outputs": [],
   "source": [
    "s.add('a')"
   ]
  },
  {
   "cell_type": "code",
   "execution_count": 8,
   "id": "74c9403c",
   "metadata": {},
   "outputs": [
    {
     "data": {
      "text/plain": [
       "{1, 2, 3, 4, 5, 6, 9, 'a'}"
      ]
     },
     "execution_count": 8,
     "metadata": {},
     "output_type": "execute_result"
    }
   ],
   "source": [
    "s"
   ]
  },
  {
   "cell_type": "code",
   "execution_count": null,
   "id": "f559172c",
   "metadata": {},
   "outputs": [],
   "source": []
  },
  {
   "cell_type": "code",
   "execution_count": null,
   "id": "94370697",
   "metadata": {},
   "outputs": [],
   "source": []
  },
  {
   "cell_type": "markdown",
   "id": "63a58b10",
   "metadata": {},
   "source": [
    "# Booleans"
   ]
  },
  {
   "cell_type": "code",
   "execution_count": 9,
   "id": "f15c8145",
   "metadata": {},
   "outputs": [
    {
     "data": {
      "text/plain": [
       "True"
      ]
     },
     "execution_count": 9,
     "metadata": {},
     "output_type": "execute_result"
    }
   ],
   "source": [
    "True"
   ]
  },
  {
   "cell_type": "code",
   "execution_count": 10,
   "id": "5e2f02aa",
   "metadata": {},
   "outputs": [
    {
     "data": {
      "text/plain": [
       "False"
      ]
     },
     "execution_count": 10,
     "metadata": {},
     "output_type": "execute_result"
    }
   ],
   "source": [
    "False"
   ]
  },
  {
   "cell_type": "markdown",
   "id": "ede5a790",
   "metadata": {},
   "source": [
    "# Comparision Operators"
   ]
  },
  {
   "cell_type": "code",
   "execution_count": 11,
   "id": "aca27ce8",
   "metadata": {},
   "outputs": [
    {
     "data": {
      "text/plain": [
       "False"
      ]
     },
     "execution_count": 11,
     "metadata": {},
     "output_type": "execute_result"
    }
   ],
   "source": [
    "1>2"
   ]
  },
  {
   "cell_type": "code",
   "execution_count": 12,
   "id": "549bb177",
   "metadata": {
    "scrolled": true
   },
   "outputs": [
    {
     "data": {
      "text/plain": [
       "True"
      ]
     },
     "execution_count": 12,
     "metadata": {},
     "output_type": "execute_result"
    }
   ],
   "source": [
    "1<2"
   ]
  },
  {
   "cell_type": "code",
   "execution_count": 13,
   "id": "41dda873",
   "metadata": {},
   "outputs": [
    {
     "data": {
      "text/plain": [
       "False"
      ]
     },
     "execution_count": 13,
     "metadata": {},
     "output_type": "execute_result"
    }
   ],
   "source": [
    "'hi' == ''"
   ]
  },
  {
   "cell_type": "code",
   "execution_count": 14,
   "id": "fb19efb9",
   "metadata": {},
   "outputs": [
    {
     "data": {
      "text/plain": [
       "True"
      ]
     },
     "execution_count": 14,
     "metadata": {},
     "output_type": "execute_result"
    }
   ],
   "source": [
    "100/2 == 50"
   ]
  },
  {
   "cell_type": "code",
   "execution_count": 15,
   "id": "dfd1bd93",
   "metadata": {},
   "outputs": [
    {
     "data": {
      "text/plain": [
       "True"
      ]
     },
     "execution_count": 15,
     "metadata": {},
     "output_type": "execute_result"
    }
   ],
   "source": [
    "1<=2"
   ]
  },
  {
   "cell_type": "markdown",
   "id": "206ebbab",
   "metadata": {},
   "source": [
    "# Logical Operators"
   ]
  },
  {
   "cell_type": "code",
   "execution_count": 16,
   "id": "c2282088",
   "metadata": {},
   "outputs": [
    {
     "data": {
      "text/plain": [
       "True"
      ]
     },
     "execution_count": 16,
     "metadata": {},
     "output_type": "execute_result"
    }
   ],
   "source": [
    "1 < 2 and 2 < 3"
   ]
  },
  {
   "cell_type": "code",
   "execution_count": 17,
   "id": "a9d564fc",
   "metadata": {},
   "outputs": [
    {
     "data": {
      "text/plain": [
       "False"
      ]
     },
     "execution_count": 17,
     "metadata": {},
     "output_type": "execute_result"
    }
   ],
   "source": [
    "1 > 2 and 2 < 3"
   ]
  },
  {
   "cell_type": "code",
   "execution_count": null,
   "id": "86f42956",
   "metadata": {},
   "outputs": [],
   "source": []
  },
  {
   "cell_type": "code",
   "execution_count": null,
   "id": "82a9bccf",
   "metadata": {},
   "outputs": [],
   "source": []
  },
  {
   "cell_type": "code",
   "execution_count": null,
   "id": "7d69f981",
   "metadata": {},
   "outputs": [],
   "source": []
  },
  {
   "cell_type": "code",
   "execution_count": null,
   "id": "fa0e899a",
   "metadata": {},
   "outputs": [],
   "source": []
  },
  {
   "cell_type": "markdown",
   "id": "dbb577fa",
   "metadata": {},
   "source": [
    "# Loops"
   ]
  },
  {
   "cell_type": "code",
   "execution_count": 18,
   "id": "a9f58f74",
   "metadata": {},
   "outputs": [
    {
     "name": "stdout",
     "output_type": "stream",
     "text": [
      "1\n",
      "2\n",
      "3\n",
      "4\n",
      "5\n",
      "6\n"
     ]
    }
   ],
   "source": [
    "seq = [1,2,3,4,5,6]\n",
    "\n",
    "for item in seq:\n",
    "    print(item)"
   ]
  },
  {
   "cell_type": "code",
   "execution_count": 19,
   "id": "982a0cae",
   "metadata": {},
   "outputs": [
    {
     "name": "stdout",
     "output_type": "stream",
     "text": [
      "1\n",
      "2\n",
      "3\n"
     ]
    }
   ],
   "source": [
    "for item in seq[:3]:\n",
    "    print(item)"
   ]
  },
  {
   "cell_type": "code",
   "execution_count": 20,
   "id": "8de1ca97",
   "metadata": {
    "scrolled": true
   },
   "outputs": [
    {
     "name": "stdout",
     "output_type": "stream",
     "text": [
      "i is : -10\n",
      "i is : -9\n",
      "i is : -8\n",
      "i is : -7\n",
      "i is : -6\n",
      "i is : -5\n",
      "i is : -4\n",
      "i is : -3\n",
      "i is : -2\n",
      "i is : -1\n",
      "i is : 0\n",
      "i is : 1\n",
      "i is : 2\n",
      "i is : 3\n",
      "i is : 4\n"
     ]
    }
   ],
   "source": [
    "i = -10\n",
    "while i<5:\n",
    "    print('i is : {}'.format(i))\n",
    "    i = i+1"
   ]
  },
  {
   "cell_type": "markdown",
   "id": "48ac9481",
   "metadata": {},
   "source": [
    "# Range"
   ]
  },
  {
   "cell_type": "code",
   "execution_count": 21,
   "id": "5e2ea1a6",
   "metadata": {},
   "outputs": [
    {
     "data": {
      "text/plain": [
       "range(0, 5)"
      ]
     },
     "execution_count": 21,
     "metadata": {},
     "output_type": "execute_result"
    }
   ],
   "source": [
    "range(5)"
   ]
  },
  {
   "cell_type": "code",
   "execution_count": 22,
   "id": "d4a82736",
   "metadata": {},
   "outputs": [
    {
     "name": "stdout",
     "output_type": "stream",
     "text": [
      "0\n",
      "1\n",
      "2\n",
      "3\n",
      "4\n"
     ]
    }
   ],
   "source": [
    "for x in range(5):\n",
    "    print(x)"
   ]
  },
  {
   "cell_type": "markdown",
   "id": "8ea4b198",
   "metadata": {},
   "source": [
    "# List compreshension"
   ]
  },
  {
   "cell_type": "code",
   "execution_count": 23,
   "id": "9cf6e032",
   "metadata": {},
   "outputs": [],
   "source": [
    "var = [1,2,3,4]"
   ]
  },
  {
   "cell_type": "code",
   "execution_count": 24,
   "id": "4c6475f7",
   "metadata": {},
   "outputs": [],
   "source": [
    "out = []\n",
    "for i in var:\n",
    "    out.append(i**2)"
   ]
  },
  {
   "cell_type": "code",
   "execution_count": 25,
   "id": "66a34828",
   "metadata": {},
   "outputs": [
    {
     "data": {
      "text/plain": [
       "[1, 4, 9, 16]"
      ]
     },
     "execution_count": 25,
     "metadata": {},
     "output_type": "execute_result"
    }
   ],
   "source": [
    "out"
   ]
  },
  {
   "cell_type": "code",
   "execution_count": 26,
   "id": "4d0b6c89",
   "metadata": {},
   "outputs": [
    {
     "data": {
      "text/plain": [
       "[1, 4, 9, 16]"
      ]
     },
     "execution_count": 26,
     "metadata": {},
     "output_type": "execute_result"
    }
   ],
   "source": [
    "[i**2 for i in var]"
   ]
  },
  {
   "cell_type": "markdown",
   "id": "dafd2b24",
   "metadata": {},
   "source": [
    "# Tuple Unpacking"
   ]
  },
  {
   "cell_type": "code",
   "execution_count": 29,
   "id": "17f0b4ed",
   "metadata": {},
   "outputs": [],
   "source": [
    "t = [(2,3),(3,8),(9,5)]"
   ]
  },
  {
   "cell_type": "code",
   "execution_count": 30,
   "id": "bb23ad75",
   "metadata": {},
   "outputs": [
    {
     "name": "stdout",
     "output_type": "stream",
     "text": [
      "9\n",
      "64\n",
      "25\n"
     ]
    }
   ],
   "source": [
    "for x,y in t:\n",
    "    print(y**2)"
   ]
  },
  {
   "cell_type": "markdown",
   "id": "7bd5b3c4",
   "metadata": {},
   "source": [
    "# Methods"
   ]
  },
  {
   "cell_type": "code",
   "execution_count": 31,
   "id": "45fc7200",
   "metadata": {},
   "outputs": [],
   "source": [
    "str = 'Hello my name is Kapil'"
   ]
  },
  {
   "cell_type": "code",
   "execution_count": 32,
   "id": "21feb85e",
   "metadata": {},
   "outputs": [
    {
     "data": {
      "text/plain": [
       "'Hello my name is Kapil'"
      ]
     },
     "execution_count": 32,
     "metadata": {},
     "output_type": "execute_result"
    }
   ],
   "source": [
    "str"
   ]
  },
  {
   "cell_type": "code",
   "execution_count": 33,
   "id": "e135e8ba",
   "metadata": {},
   "outputs": [
    {
     "data": {
      "text/plain": [
       "'hello my name is kapil'"
      ]
     },
     "execution_count": 33,
     "metadata": {},
     "output_type": "execute_result"
    }
   ],
   "source": [
    "str.lower()"
   ]
  },
  {
   "cell_type": "code",
   "execution_count": 34,
   "id": "4da41f31",
   "metadata": {},
   "outputs": [
    {
     "data": {
      "text/plain": [
       "'HELLO MY NAME IS KAPIL'"
      ]
     },
     "execution_count": 34,
     "metadata": {},
     "output_type": "execute_result"
    }
   ],
   "source": [
    "str.upper()"
   ]
  },
  {
   "cell_type": "code",
   "execution_count": 36,
   "id": "f8c05ff4",
   "metadata": {},
   "outputs": [],
   "source": [
    "new_list = str.split()"
   ]
  },
  {
   "cell_type": "code",
   "execution_count": 37,
   "id": "f55a6429",
   "metadata": {},
   "outputs": [
    {
     "data": {
      "text/plain": [
       "['Hello', 'my', 'name', 'is', 'Kapil']"
      ]
     },
     "execution_count": 37,
     "metadata": {},
     "output_type": "execute_result"
    }
   ],
   "source": [
    "new_list"
   ]
  },
  {
   "cell_type": "code",
   "execution_count": 38,
   "id": "ea1b66c3",
   "metadata": {},
   "outputs": [
    {
     "name": "stdout",
     "output_type": "stream",
     "text": [
      "Hello\n",
      "my\n",
      "name\n",
      "is\n",
      "Kapil\n"
     ]
    }
   ],
   "source": [
    "for i in new_list:\n",
    "    print(i)"
   ]
  },
  {
   "cell_type": "code",
   "execution_count": 39,
   "id": "e859d6f4",
   "metadata": {},
   "outputs": [
    {
     "data": {
      "text/plain": [
       "5"
      ]
     },
     "execution_count": 39,
     "metadata": {},
     "output_type": "execute_result"
    }
   ],
   "source": [
    "len(new_list)"
   ]
  },
  {
   "cell_type": "code",
   "execution_count": 46,
   "id": "53a6147c",
   "metadata": {},
   "outputs": [],
   "source": [
    "mail = 'rbpl_saikapil@gmail.com'"
   ]
  },
  {
   "cell_type": "code",
   "execution_count": 50,
   "id": "7cf219d7",
   "metadata": {},
   "outputs": [],
   "source": [
    "service_provider = mail.split('@')[1].split('.')[0]"
   ]
  },
  {
   "cell_type": "code",
   "execution_count": 51,
   "id": "c4baef7b",
   "metadata": {},
   "outputs": [
    {
     "data": {
      "text/plain": [
       "'gmail'"
      ]
     },
     "execution_count": 51,
     "metadata": {},
     "output_type": "execute_result"
    }
   ],
   "source": [
    "service_provider"
   ]
  },
  {
   "cell_type": "code",
   "execution_count": 53,
   "id": "b1c4cc66",
   "metadata": {},
   "outputs": [],
   "source": [
    "tweet = 'Go India! #IndVsPak'"
   ]
  },
  {
   "cell_type": "code",
   "execution_count": 60,
   "id": "563c87b1",
   "metadata": {},
   "outputs": [
    {
     "data": {
      "text/plain": [
       "['Go India!', 'IndVsPak']"
      ]
     },
     "execution_count": 60,
     "metadata": {},
     "output_type": "execute_result"
    }
   ],
   "source": [
    "tweet.split(' #')"
   ]
  },
  {
   "cell_type": "code",
   "execution_count": 61,
   "id": "646824ff",
   "metadata": {},
   "outputs": [
    {
     "data": {
      "text/plain": [
       "'Go India!'"
      ]
     },
     "execution_count": 61,
     "metadata": {},
     "output_type": "execute_result"
    }
   ],
   "source": [
    "tweet.split(' #')[0]"
   ]
  },
  {
   "cell_type": "code",
   "execution_count": 58,
   "id": "31c4f7d8",
   "metadata": {},
   "outputs": [
    {
     "data": {
      "text/plain": [
       "'IndVsPak'"
      ]
     },
     "execution_count": 58,
     "metadata": {},
     "output_type": "execute_result"
    }
   ],
   "source": [
    "tweet.split('#')[1]"
   ]
  },
  {
   "cell_type": "code",
   "execution_count": 62,
   "id": "650ba85b",
   "metadata": {},
   "outputs": [],
   "source": [
    "dic1 = {'k1':'value1',\n",
    "        'k2':456}"
   ]
  },
  {
   "cell_type": "code",
   "execution_count": 63,
   "id": "078db958",
   "metadata": {},
   "outputs": [
    {
     "data": {
      "text/plain": [
       "{'k1': 'value1', 'k2': 456}"
      ]
     },
     "execution_count": 63,
     "metadata": {},
     "output_type": "execute_result"
    }
   ],
   "source": [
    "dic1"
   ]
  },
  {
   "cell_type": "code",
   "execution_count": 64,
   "id": "35113083",
   "metadata": {},
   "outputs": [
    {
     "data": {
      "text/plain": [
       "dict_keys(['k1', 'k2'])"
      ]
     },
     "execution_count": 64,
     "metadata": {},
     "output_type": "execute_result"
    }
   ],
   "source": [
    "dic1.keys()"
   ]
  },
  {
   "cell_type": "code",
   "execution_count": 65,
   "id": "a0840708",
   "metadata": {},
   "outputs": [
    {
     "data": {
      "text/plain": [
       "dict_items([('k1', 'value1'), ('k2', 456)])"
      ]
     },
     "execution_count": 65,
     "metadata": {},
     "output_type": "execute_result"
    }
   ],
   "source": [
    "dic1.items()"
   ]
  },
  {
   "cell_type": "code",
   "execution_count": 66,
   "id": "9792e92f",
   "metadata": {},
   "outputs": [
    {
     "data": {
      "text/plain": [
       "dict_values(['value1', 456])"
      ]
     },
     "execution_count": 66,
     "metadata": {},
     "output_type": "execute_result"
    }
   ],
   "source": [
    "dic1.values()"
   ]
  },
  {
   "cell_type": "code",
   "execution_count": 67,
   "id": "7a248a40",
   "metadata": {},
   "outputs": [
    {
     "data": {
      "text/plain": [
       "True"
      ]
     },
     "execution_count": 67,
     "metadata": {},
     "output_type": "execute_result"
    }
   ],
   "source": [
    "'hi' in [23,12,24,'hello','hi']"
   ]
  },
  {
   "cell_type": "code",
   "execution_count": 68,
   "id": "722585f1",
   "metadata": {},
   "outputs": [
    {
     "ename": "NameError",
     "evalue": "name 'np' is not defined",
     "output_type": "error",
     "traceback": [
      "\u001b[1;31m---------------------------------------------------------------------------\u001b[0m",
      "\u001b[1;31mNameError\u001b[0m                                 Traceback (most recent call last)",
      "Cell \u001b[1;32mIn[68], line 2\u001b[0m\n\u001b[0;32m      1\u001b[0m \u001b[38;5;66;03m# eye\u001b[39;00m\n\u001b[1;32m----> 2\u001b[0m np\u001b[38;5;241m.\u001b[39meye(\u001b[38;5;241m5\u001b[39m)\n",
      "\u001b[1;31mNameError\u001b[0m: name 'np' is not defined"
     ]
    }
   ],
   "source": []
  },
  {
   "cell_type": "code",
   "execution_count": null,
   "id": "1b3d14b3",
   "metadata": {},
   "outputs": [],
   "source": []
  },
  {
   "cell_type": "code",
   "execution_count": null,
   "id": "c3ecf931",
   "metadata": {},
   "outputs": [],
   "source": []
  },
  {
   "cell_type": "code",
   "execution_count": null,
   "id": "854b9eca",
   "metadata": {},
   "outputs": [],
   "source": []
  },
  {
   "cell_type": "code",
   "execution_count": null,
   "id": "f6f4a973",
   "metadata": {},
   "outputs": [],
   "source": []
  },
  {
   "cell_type": "code",
   "execution_count": null,
   "id": "bb8622f7",
   "metadata": {},
   "outputs": [],
   "source": []
  },
  {
   "cell_type": "code",
   "execution_count": null,
   "id": "5e68af9b",
   "metadata": {},
   "outputs": [],
   "source": []
  },
  {
   "cell_type": "code",
   "execution_count": null,
   "id": "b4c17c34",
   "metadata": {},
   "outputs": [],
   "source": []
  },
  {
   "cell_type": "code",
   "execution_count": null,
   "id": "0c191771",
   "metadata": {},
   "outputs": [],
   "source": []
  },
  {
   "cell_type": "code",
   "execution_count": null,
   "id": "24e8497d",
   "metadata": {},
   "outputs": [],
   "source": []
  },
  {
   "cell_type": "code",
   "execution_count": null,
   "id": "032bdca9",
   "metadata": {},
   "outputs": [],
   "source": []
  }
 ],
 "metadata": {
  "kernelspec": {
   "display_name": "Python 3 (ipykernel)",
   "language": "python",
   "name": "python3"
  },
  "language_info": {
   "codemirror_mode": {
    "name": "ipython",
    "version": 3
   },
   "file_extension": ".py",
   "mimetype": "text/x-python",
   "name": "python",
   "nbconvert_exporter": "python",
   "pygments_lexer": "ipython3",
   "version": "3.11.4"
  }
 },
 "nbformat": 4,
 "nbformat_minor": 5
}
