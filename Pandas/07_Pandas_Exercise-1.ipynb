{
 "cells": [
  {
   "cell_type": "code",
   "execution_count": 1,
   "id": "d268fb50",
   "metadata": {},
   "outputs": [],
   "source": [
    "import pandas as pd\n",
    "import numpy as np"
   ]
  },
  {
   "cell_type": "code",
   "execution_count": 2,
   "id": "d158311a",
   "metadata": {},
   "outputs": [],
   "source": [
    "hotel = pd.read_csv(r\"hotel_booking_data.csv\")"
   ]
  },
  {
   "cell_type": "code",
   "execution_count": 3,
   "id": "60998a5a",
   "metadata": {},
   "outputs": [
    {
     "data": {
      "text/html": [
       "<div>\n",
       "<style scoped>\n",
       "    .dataframe tbody tr th:only-of-type {\n",
       "        vertical-align: middle;\n",
       "    }\n",
       "\n",
       "    .dataframe tbody tr th {\n",
       "        vertical-align: top;\n",
       "    }\n",
       "\n",
       "    .dataframe thead th {\n",
       "        text-align: right;\n",
       "    }\n",
       "</style>\n",
       "<table border=\"1\" class=\"dataframe\">\n",
       "  <thead>\n",
       "    <tr style=\"text-align: right;\">\n",
       "      <th></th>\n",
       "      <th>hotel</th>\n",
       "      <th>is_canceled</th>\n",
       "      <th>lead_time</th>\n",
       "      <th>arrival_date_year</th>\n",
       "      <th>arrival_date_month</th>\n",
       "      <th>arrival_date_week_number</th>\n",
       "      <th>arrival_date_day_of_month</th>\n",
       "      <th>stays_in_weekend_nights</th>\n",
       "      <th>stays_in_week_nights</th>\n",
       "      <th>adults</th>\n",
       "      <th>...</th>\n",
       "      <th>customer_type</th>\n",
       "      <th>adr</th>\n",
       "      <th>required_car_parking_spaces</th>\n",
       "      <th>total_of_special_requests</th>\n",
       "      <th>reservation_status</th>\n",
       "      <th>reservation_status_date</th>\n",
       "      <th>name</th>\n",
       "      <th>email</th>\n",
       "      <th>phone-number</th>\n",
       "      <th>credit_card</th>\n",
       "    </tr>\n",
       "  </thead>\n",
       "  <tbody>\n",
       "    <tr>\n",
       "      <th>0</th>\n",
       "      <td>Resort Hotel</td>\n",
       "      <td>0</td>\n",
       "      <td>342</td>\n",
       "      <td>2015</td>\n",
       "      <td>July</td>\n",
       "      <td>27</td>\n",
       "      <td>1</td>\n",
       "      <td>0</td>\n",
       "      <td>0</td>\n",
       "      <td>2</td>\n",
       "      <td>...</td>\n",
       "      <td>Transient</td>\n",
       "      <td>0.00</td>\n",
       "      <td>0</td>\n",
       "      <td>0</td>\n",
       "      <td>Check-Out</td>\n",
       "      <td>2015-07-01</td>\n",
       "      <td>Ernest Barnes</td>\n",
       "      <td>Ernest.Barnes31@outlook.com</td>\n",
       "      <td>669-792-1661</td>\n",
       "      <td>************4322</td>\n",
       "    </tr>\n",
       "    <tr>\n",
       "      <th>1</th>\n",
       "      <td>Resort Hotel</td>\n",
       "      <td>0</td>\n",
       "      <td>737</td>\n",
       "      <td>2015</td>\n",
       "      <td>July</td>\n",
       "      <td>27</td>\n",
       "      <td>1</td>\n",
       "      <td>0</td>\n",
       "      <td>0</td>\n",
       "      <td>2</td>\n",
       "      <td>...</td>\n",
       "      <td>Transient</td>\n",
       "      <td>0.00</td>\n",
       "      <td>0</td>\n",
       "      <td>0</td>\n",
       "      <td>Check-Out</td>\n",
       "      <td>2015-07-01</td>\n",
       "      <td>Andrea Baker</td>\n",
       "      <td>Andrea_Baker94@aol.com</td>\n",
       "      <td>858-637-6955</td>\n",
       "      <td>************9157</td>\n",
       "    </tr>\n",
       "    <tr>\n",
       "      <th>2</th>\n",
       "      <td>Resort Hotel</td>\n",
       "      <td>0</td>\n",
       "      <td>7</td>\n",
       "      <td>2015</td>\n",
       "      <td>July</td>\n",
       "      <td>27</td>\n",
       "      <td>1</td>\n",
       "      <td>0</td>\n",
       "      <td>1</td>\n",
       "      <td>1</td>\n",
       "      <td>...</td>\n",
       "      <td>Transient</td>\n",
       "      <td>75.00</td>\n",
       "      <td>0</td>\n",
       "      <td>0</td>\n",
       "      <td>Check-Out</td>\n",
       "      <td>2015-07-02</td>\n",
       "      <td>Rebecca Parker</td>\n",
       "      <td>Rebecca_Parker@comcast.net</td>\n",
       "      <td>652-885-2745</td>\n",
       "      <td>************3734</td>\n",
       "    </tr>\n",
       "    <tr>\n",
       "      <th>3</th>\n",
       "      <td>Resort Hotel</td>\n",
       "      <td>0</td>\n",
       "      <td>13</td>\n",
       "      <td>2015</td>\n",
       "      <td>July</td>\n",
       "      <td>27</td>\n",
       "      <td>1</td>\n",
       "      <td>0</td>\n",
       "      <td>1</td>\n",
       "      <td>1</td>\n",
       "      <td>...</td>\n",
       "      <td>Transient</td>\n",
       "      <td>75.00</td>\n",
       "      <td>0</td>\n",
       "      <td>0</td>\n",
       "      <td>Check-Out</td>\n",
       "      <td>2015-07-02</td>\n",
       "      <td>Laura Murray</td>\n",
       "      <td>Laura_M@gmail.com</td>\n",
       "      <td>364-656-8427</td>\n",
       "      <td>************5677</td>\n",
       "    </tr>\n",
       "    <tr>\n",
       "      <th>4</th>\n",
       "      <td>Resort Hotel</td>\n",
       "      <td>0</td>\n",
       "      <td>14</td>\n",
       "      <td>2015</td>\n",
       "      <td>July</td>\n",
       "      <td>27</td>\n",
       "      <td>1</td>\n",
       "      <td>0</td>\n",
       "      <td>2</td>\n",
       "      <td>2</td>\n",
       "      <td>...</td>\n",
       "      <td>Transient</td>\n",
       "      <td>98.00</td>\n",
       "      <td>0</td>\n",
       "      <td>1</td>\n",
       "      <td>Check-Out</td>\n",
       "      <td>2015-07-03</td>\n",
       "      <td>Linda Hines</td>\n",
       "      <td>LHines@verizon.com</td>\n",
       "      <td>713-226-5883</td>\n",
       "      <td>************5498</td>\n",
       "    </tr>\n",
       "    <tr>\n",
       "      <th>...</th>\n",
       "      <td>...</td>\n",
       "      <td>...</td>\n",
       "      <td>...</td>\n",
       "      <td>...</td>\n",
       "      <td>...</td>\n",
       "      <td>...</td>\n",
       "      <td>...</td>\n",
       "      <td>...</td>\n",
       "      <td>...</td>\n",
       "      <td>...</td>\n",
       "      <td>...</td>\n",
       "      <td>...</td>\n",
       "      <td>...</td>\n",
       "      <td>...</td>\n",
       "      <td>...</td>\n",
       "      <td>...</td>\n",
       "      <td>...</td>\n",
       "      <td>...</td>\n",
       "      <td>...</td>\n",
       "      <td>...</td>\n",
       "      <td>...</td>\n",
       "    </tr>\n",
       "    <tr>\n",
       "      <th>119385</th>\n",
       "      <td>City Hotel</td>\n",
       "      <td>0</td>\n",
       "      <td>23</td>\n",
       "      <td>2017</td>\n",
       "      <td>August</td>\n",
       "      <td>35</td>\n",
       "      <td>30</td>\n",
       "      <td>2</td>\n",
       "      <td>5</td>\n",
       "      <td>2</td>\n",
       "      <td>...</td>\n",
       "      <td>Transient</td>\n",
       "      <td>96.14</td>\n",
       "      <td>0</td>\n",
       "      <td>0</td>\n",
       "      <td>Check-Out</td>\n",
       "      <td>2017-09-06</td>\n",
       "      <td>Claudia Johnson</td>\n",
       "      <td>Claudia.J@yahoo.com</td>\n",
       "      <td>403-092-5582</td>\n",
       "      <td>************8647</td>\n",
       "    </tr>\n",
       "    <tr>\n",
       "      <th>119386</th>\n",
       "      <td>City Hotel</td>\n",
       "      <td>0</td>\n",
       "      <td>102</td>\n",
       "      <td>2017</td>\n",
       "      <td>August</td>\n",
       "      <td>35</td>\n",
       "      <td>31</td>\n",
       "      <td>2</td>\n",
       "      <td>5</td>\n",
       "      <td>3</td>\n",
       "      <td>...</td>\n",
       "      <td>Transient</td>\n",
       "      <td>225.43</td>\n",
       "      <td>0</td>\n",
       "      <td>2</td>\n",
       "      <td>Check-Out</td>\n",
       "      <td>2017-09-07</td>\n",
       "      <td>Wesley Aguilar</td>\n",
       "      <td>WAguilar@xfinity.com</td>\n",
       "      <td>238-763-0612</td>\n",
       "      <td>************4333</td>\n",
       "    </tr>\n",
       "    <tr>\n",
       "      <th>119387</th>\n",
       "      <td>City Hotel</td>\n",
       "      <td>0</td>\n",
       "      <td>34</td>\n",
       "      <td>2017</td>\n",
       "      <td>August</td>\n",
       "      <td>35</td>\n",
       "      <td>31</td>\n",
       "      <td>2</td>\n",
       "      <td>5</td>\n",
       "      <td>2</td>\n",
       "      <td>...</td>\n",
       "      <td>Transient</td>\n",
       "      <td>157.71</td>\n",
       "      <td>0</td>\n",
       "      <td>4</td>\n",
       "      <td>Check-Out</td>\n",
       "      <td>2017-09-07</td>\n",
       "      <td>Mary Morales</td>\n",
       "      <td>Mary_Morales@hotmail.com</td>\n",
       "      <td>395-518-4100</td>\n",
       "      <td>************1821</td>\n",
       "    </tr>\n",
       "    <tr>\n",
       "      <th>119388</th>\n",
       "      <td>City Hotel</td>\n",
       "      <td>0</td>\n",
       "      <td>109</td>\n",
       "      <td>2017</td>\n",
       "      <td>August</td>\n",
       "      <td>35</td>\n",
       "      <td>31</td>\n",
       "      <td>2</td>\n",
       "      <td>5</td>\n",
       "      <td>2</td>\n",
       "      <td>...</td>\n",
       "      <td>Transient</td>\n",
       "      <td>104.40</td>\n",
       "      <td>0</td>\n",
       "      <td>0</td>\n",
       "      <td>Check-Out</td>\n",
       "      <td>2017-09-07</td>\n",
       "      <td>Caroline Conley MD</td>\n",
       "      <td>MD_Caroline@comcast.net</td>\n",
       "      <td>531-528-1017</td>\n",
       "      <td>************7860</td>\n",
       "    </tr>\n",
       "    <tr>\n",
       "      <th>119389</th>\n",
       "      <td>City Hotel</td>\n",
       "      <td>0</td>\n",
       "      <td>205</td>\n",
       "      <td>2017</td>\n",
       "      <td>August</td>\n",
       "      <td>35</td>\n",
       "      <td>29</td>\n",
       "      <td>2</td>\n",
       "      <td>7</td>\n",
       "      <td>2</td>\n",
       "      <td>...</td>\n",
       "      <td>Transient</td>\n",
       "      <td>151.20</td>\n",
       "      <td>0</td>\n",
       "      <td>2</td>\n",
       "      <td>Check-Out</td>\n",
       "      <td>2017-09-07</td>\n",
       "      <td>Ariana Michael</td>\n",
       "      <td>Ariana_M@xfinity.com</td>\n",
       "      <td>422-804-6403</td>\n",
       "      <td>************4482</td>\n",
       "    </tr>\n",
       "  </tbody>\n",
       "</table>\n",
       "<p>119390 rows × 36 columns</p>\n",
       "</div>"
      ],
      "text/plain": [
       "               hotel  is_canceled  lead_time  arrival_date_year  \\\n",
       "0       Resort Hotel            0        342               2015   \n",
       "1       Resort Hotel            0        737               2015   \n",
       "2       Resort Hotel            0          7               2015   \n",
       "3       Resort Hotel            0         13               2015   \n",
       "4       Resort Hotel            0         14               2015   \n",
       "...              ...          ...        ...                ...   \n",
       "119385    City Hotel            0         23               2017   \n",
       "119386    City Hotel            0        102               2017   \n",
       "119387    City Hotel            0         34               2017   \n",
       "119388    City Hotel            0        109               2017   \n",
       "119389    City Hotel            0        205               2017   \n",
       "\n",
       "       arrival_date_month  arrival_date_week_number  \\\n",
       "0                    July                        27   \n",
       "1                    July                        27   \n",
       "2                    July                        27   \n",
       "3                    July                        27   \n",
       "4                    July                        27   \n",
       "...                   ...                       ...   \n",
       "119385             August                        35   \n",
       "119386             August                        35   \n",
       "119387             August                        35   \n",
       "119388             August                        35   \n",
       "119389             August                        35   \n",
       "\n",
       "        arrival_date_day_of_month  stays_in_weekend_nights  \\\n",
       "0                               1                        0   \n",
       "1                               1                        0   \n",
       "2                               1                        0   \n",
       "3                               1                        0   \n",
       "4                               1                        0   \n",
       "...                           ...                      ...   \n",
       "119385                         30                        2   \n",
       "119386                         31                        2   \n",
       "119387                         31                        2   \n",
       "119388                         31                        2   \n",
       "119389                         29                        2   \n",
       "\n",
       "        stays_in_week_nights  adults  ...  customer_type     adr  \\\n",
       "0                          0       2  ...      Transient    0.00   \n",
       "1                          0       2  ...      Transient    0.00   \n",
       "2                          1       1  ...      Transient   75.00   \n",
       "3                          1       1  ...      Transient   75.00   \n",
       "4                          2       2  ...      Transient   98.00   \n",
       "...                      ...     ...  ...            ...     ...   \n",
       "119385                     5       2  ...      Transient   96.14   \n",
       "119386                     5       3  ...      Transient  225.43   \n",
       "119387                     5       2  ...      Transient  157.71   \n",
       "119388                     5       2  ...      Transient  104.40   \n",
       "119389                     7       2  ...      Transient  151.20   \n",
       "\n",
       "       required_car_parking_spaces total_of_special_requests  \\\n",
       "0                                0                         0   \n",
       "1                                0                         0   \n",
       "2                                0                         0   \n",
       "3                                0                         0   \n",
       "4                                0                         1   \n",
       "...                            ...                       ...   \n",
       "119385                           0                         0   \n",
       "119386                           0                         2   \n",
       "119387                           0                         4   \n",
       "119388                           0                         0   \n",
       "119389                           0                         2   \n",
       "\n",
       "       reservation_status reservation_status_date                name  \\\n",
       "0               Check-Out              2015-07-01       Ernest Barnes   \n",
       "1               Check-Out              2015-07-01        Andrea Baker   \n",
       "2               Check-Out              2015-07-02      Rebecca Parker   \n",
       "3               Check-Out              2015-07-02        Laura Murray   \n",
       "4               Check-Out              2015-07-03         Linda Hines   \n",
       "...                   ...                     ...                 ...   \n",
       "119385          Check-Out              2017-09-06     Claudia Johnson   \n",
       "119386          Check-Out              2017-09-07      Wesley Aguilar   \n",
       "119387          Check-Out              2017-09-07        Mary Morales   \n",
       "119388          Check-Out              2017-09-07  Caroline Conley MD   \n",
       "119389          Check-Out              2017-09-07      Ariana Michael   \n",
       "\n",
       "                              email  phone-number       credit_card  \n",
       "0       Ernest.Barnes31@outlook.com  669-792-1661  ************4322  \n",
       "1            Andrea_Baker94@aol.com  858-637-6955  ************9157  \n",
       "2        Rebecca_Parker@comcast.net  652-885-2745  ************3734  \n",
       "3                 Laura_M@gmail.com  364-656-8427  ************5677  \n",
       "4                LHines@verizon.com  713-226-5883  ************5498  \n",
       "...                             ...           ...               ...  \n",
       "119385          Claudia.J@yahoo.com  403-092-5582  ************8647  \n",
       "119386         WAguilar@xfinity.com  238-763-0612  ************4333  \n",
       "119387     Mary_Morales@hotmail.com  395-518-4100  ************1821  \n",
       "119388      MD_Caroline@comcast.net  531-528-1017  ************7860  \n",
       "119389         Ariana_M@xfinity.com  422-804-6403  ************4482  \n",
       "\n",
       "[119390 rows x 36 columns]"
      ]
     },
     "execution_count": 3,
     "metadata": {},
     "output_type": "execute_result"
    }
   ],
   "source": [
    "hotel"
   ]
  },
  {
   "cell_type": "code",
   "execution_count": 4,
   "id": "e5291c2c",
   "metadata": {},
   "outputs": [
    {
     "data": {
      "text/html": [
       "<div>\n",
       "<style scoped>\n",
       "    .dataframe tbody tr th:only-of-type {\n",
       "        vertical-align: middle;\n",
       "    }\n",
       "\n",
       "    .dataframe tbody tr th {\n",
       "        vertical-align: top;\n",
       "    }\n",
       "\n",
       "    .dataframe thead th {\n",
       "        text-align: right;\n",
       "    }\n",
       "</style>\n",
       "<table border=\"1\" class=\"dataframe\">\n",
       "  <thead>\n",
       "    <tr style=\"text-align: right;\">\n",
       "      <th></th>\n",
       "      <th>hotel</th>\n",
       "      <th>is_canceled</th>\n",
       "      <th>lead_time</th>\n",
       "      <th>arrival_date_year</th>\n",
       "      <th>arrival_date_month</th>\n",
       "      <th>arrival_date_week_number</th>\n",
       "      <th>arrival_date_day_of_month</th>\n",
       "      <th>stays_in_weekend_nights</th>\n",
       "      <th>stays_in_week_nights</th>\n",
       "      <th>adults</th>\n",
       "      <th>...</th>\n",
       "      <th>customer_type</th>\n",
       "      <th>adr</th>\n",
       "      <th>required_car_parking_spaces</th>\n",
       "      <th>total_of_special_requests</th>\n",
       "      <th>reservation_status</th>\n",
       "      <th>reservation_status_date</th>\n",
       "      <th>name</th>\n",
       "      <th>email</th>\n",
       "      <th>phone-number</th>\n",
       "      <th>credit_card</th>\n",
       "    </tr>\n",
       "  </thead>\n",
       "  <tbody>\n",
       "    <tr>\n",
       "      <th>0</th>\n",
       "      <td>Resort Hotel</td>\n",
       "      <td>0</td>\n",
       "      <td>342</td>\n",
       "      <td>2015</td>\n",
       "      <td>July</td>\n",
       "      <td>27</td>\n",
       "      <td>1</td>\n",
       "      <td>0</td>\n",
       "      <td>0</td>\n",
       "      <td>2</td>\n",
       "      <td>...</td>\n",
       "      <td>Transient</td>\n",
       "      <td>0.0</td>\n",
       "      <td>0</td>\n",
       "      <td>0</td>\n",
       "      <td>Check-Out</td>\n",
       "      <td>2015-07-01</td>\n",
       "      <td>Ernest Barnes</td>\n",
       "      <td>Ernest.Barnes31@outlook.com</td>\n",
       "      <td>669-792-1661</td>\n",
       "      <td>************4322</td>\n",
       "    </tr>\n",
       "    <tr>\n",
       "      <th>1</th>\n",
       "      <td>Resort Hotel</td>\n",
       "      <td>0</td>\n",
       "      <td>737</td>\n",
       "      <td>2015</td>\n",
       "      <td>July</td>\n",
       "      <td>27</td>\n",
       "      <td>1</td>\n",
       "      <td>0</td>\n",
       "      <td>0</td>\n",
       "      <td>2</td>\n",
       "      <td>...</td>\n",
       "      <td>Transient</td>\n",
       "      <td>0.0</td>\n",
       "      <td>0</td>\n",
       "      <td>0</td>\n",
       "      <td>Check-Out</td>\n",
       "      <td>2015-07-01</td>\n",
       "      <td>Andrea Baker</td>\n",
       "      <td>Andrea_Baker94@aol.com</td>\n",
       "      <td>858-637-6955</td>\n",
       "      <td>************9157</td>\n",
       "    </tr>\n",
       "  </tbody>\n",
       "</table>\n",
       "<p>2 rows × 36 columns</p>\n",
       "</div>"
      ],
      "text/plain": [
       "          hotel  is_canceled  lead_time  arrival_date_year arrival_date_month  \\\n",
       "0  Resort Hotel            0        342               2015               July   \n",
       "1  Resort Hotel            0        737               2015               July   \n",
       "\n",
       "   arrival_date_week_number  arrival_date_day_of_month  \\\n",
       "0                        27                          1   \n",
       "1                        27                          1   \n",
       "\n",
       "   stays_in_weekend_nights  stays_in_week_nights  adults  ...  customer_type  \\\n",
       "0                        0                     0       2  ...      Transient   \n",
       "1                        0                     0       2  ...      Transient   \n",
       "\n",
       "   adr required_car_parking_spaces total_of_special_requests  \\\n",
       "0  0.0                           0                         0   \n",
       "1  0.0                           0                         0   \n",
       "\n",
       "  reservation_status reservation_status_date           name  \\\n",
       "0          Check-Out              2015-07-01  Ernest Barnes   \n",
       "1          Check-Out              2015-07-01   Andrea Baker   \n",
       "\n",
       "                         email  phone-number       credit_card  \n",
       "0  Ernest.Barnes31@outlook.com  669-792-1661  ************4322  \n",
       "1       Andrea_Baker94@aol.com  858-637-6955  ************9157  \n",
       "\n",
       "[2 rows x 36 columns]"
      ]
     },
     "execution_count": 4,
     "metadata": {},
     "output_type": "execute_result"
    }
   ],
   "source": [
    "hotel.head(2)"
   ]
  },
  {
   "cell_type": "code",
   "execution_count": 5,
   "id": "80fee006",
   "metadata": {},
   "outputs": [
    {
     "data": {
      "text/html": [
       "<div>\n",
       "<style scoped>\n",
       "    .dataframe tbody tr th:only-of-type {\n",
       "        vertical-align: middle;\n",
       "    }\n",
       "\n",
       "    .dataframe tbody tr th {\n",
       "        vertical-align: top;\n",
       "    }\n",
       "\n",
       "    .dataframe thead th {\n",
       "        text-align: right;\n",
       "    }\n",
       "</style>\n",
       "<table border=\"1\" class=\"dataframe\">\n",
       "  <thead>\n",
       "    <tr style=\"text-align: right;\">\n",
       "      <th></th>\n",
       "      <th>hotel</th>\n",
       "      <th>is_canceled</th>\n",
       "      <th>lead_time</th>\n",
       "      <th>arrival_date_year</th>\n",
       "      <th>arrival_date_month</th>\n",
       "      <th>arrival_date_week_number</th>\n",
       "      <th>arrival_date_day_of_month</th>\n",
       "      <th>stays_in_weekend_nights</th>\n",
       "      <th>stays_in_week_nights</th>\n",
       "      <th>adults</th>\n",
       "      <th>...</th>\n",
       "      <th>customer_type</th>\n",
       "      <th>adr</th>\n",
       "      <th>required_car_parking_spaces</th>\n",
       "      <th>total_of_special_requests</th>\n",
       "      <th>reservation_status</th>\n",
       "      <th>reservation_status_date</th>\n",
       "      <th>name</th>\n",
       "      <th>email</th>\n",
       "      <th>phone-number</th>\n",
       "      <th>credit_card</th>\n",
       "    </tr>\n",
       "  </thead>\n",
       "  <tbody>\n",
       "    <tr>\n",
       "      <th>119388</th>\n",
       "      <td>City Hotel</td>\n",
       "      <td>0</td>\n",
       "      <td>109</td>\n",
       "      <td>2017</td>\n",
       "      <td>August</td>\n",
       "      <td>35</td>\n",
       "      <td>31</td>\n",
       "      <td>2</td>\n",
       "      <td>5</td>\n",
       "      <td>2</td>\n",
       "      <td>...</td>\n",
       "      <td>Transient</td>\n",
       "      <td>104.4</td>\n",
       "      <td>0</td>\n",
       "      <td>0</td>\n",
       "      <td>Check-Out</td>\n",
       "      <td>2017-09-07</td>\n",
       "      <td>Caroline Conley MD</td>\n",
       "      <td>MD_Caroline@comcast.net</td>\n",
       "      <td>531-528-1017</td>\n",
       "      <td>************7860</td>\n",
       "    </tr>\n",
       "    <tr>\n",
       "      <th>119389</th>\n",
       "      <td>City Hotel</td>\n",
       "      <td>0</td>\n",
       "      <td>205</td>\n",
       "      <td>2017</td>\n",
       "      <td>August</td>\n",
       "      <td>35</td>\n",
       "      <td>29</td>\n",
       "      <td>2</td>\n",
       "      <td>7</td>\n",
       "      <td>2</td>\n",
       "      <td>...</td>\n",
       "      <td>Transient</td>\n",
       "      <td>151.2</td>\n",
       "      <td>0</td>\n",
       "      <td>2</td>\n",
       "      <td>Check-Out</td>\n",
       "      <td>2017-09-07</td>\n",
       "      <td>Ariana Michael</td>\n",
       "      <td>Ariana_M@xfinity.com</td>\n",
       "      <td>422-804-6403</td>\n",
       "      <td>************4482</td>\n",
       "    </tr>\n",
       "  </tbody>\n",
       "</table>\n",
       "<p>2 rows × 36 columns</p>\n",
       "</div>"
      ],
      "text/plain": [
       "             hotel  is_canceled  lead_time  arrival_date_year  \\\n",
       "119388  City Hotel            0        109               2017   \n",
       "119389  City Hotel            0        205               2017   \n",
       "\n",
       "       arrival_date_month  arrival_date_week_number  \\\n",
       "119388             August                        35   \n",
       "119389             August                        35   \n",
       "\n",
       "        arrival_date_day_of_month  stays_in_weekend_nights  \\\n",
       "119388                         31                        2   \n",
       "119389                         29                        2   \n",
       "\n",
       "        stays_in_week_nights  adults  ...  customer_type    adr  \\\n",
       "119388                     5       2  ...      Transient  104.4   \n",
       "119389                     7       2  ...      Transient  151.2   \n",
       "\n",
       "       required_car_parking_spaces total_of_special_requests  \\\n",
       "119388                           0                         0   \n",
       "119389                           0                         2   \n",
       "\n",
       "       reservation_status reservation_status_date                name  \\\n",
       "119388          Check-Out              2017-09-07  Caroline Conley MD   \n",
       "119389          Check-Out              2017-09-07      Ariana Michael   \n",
       "\n",
       "                          email  phone-number       credit_card  \n",
       "119388  MD_Caroline@comcast.net  531-528-1017  ************7860  \n",
       "119389     Ariana_M@xfinity.com  422-804-6403  ************4482  \n",
       "\n",
       "[2 rows x 36 columns]"
      ]
     },
     "execution_count": 5,
     "metadata": {},
     "output_type": "execute_result"
    }
   ],
   "source": [
    "hotel.tail(2)"
   ]
  },
  {
   "cell_type": "code",
   "execution_count": 6,
   "id": "c0876128",
   "metadata": {},
   "outputs": [
    {
     "data": {
      "text/plain": [
       "Index(['hotel', 'is_canceled', 'lead_time', 'arrival_date_year',\n",
       "       'arrival_date_month', 'arrival_date_week_number',\n",
       "       'arrival_date_day_of_month', 'stays_in_weekend_nights',\n",
       "       'stays_in_week_nights', 'adults', 'children', 'babies', 'meal',\n",
       "       'country', 'market_segment', 'distribution_channel',\n",
       "       'is_repeated_guest', 'previous_cancellations',\n",
       "       'previous_bookings_not_canceled', 'reserved_room_type',\n",
       "       'assigned_room_type', 'booking_changes', 'deposit_type', 'agent',\n",
       "       'company', 'days_in_waiting_list', 'customer_type', 'adr',\n",
       "       'required_car_parking_spaces', 'total_of_special_requests',\n",
       "       'reservation_status', 'reservation_status_date', 'name', 'email',\n",
       "       'phone-number', 'credit_card'],\n",
       "      dtype='object')"
      ]
     },
     "execution_count": 6,
     "metadata": {},
     "output_type": "execute_result"
    }
   ],
   "source": [
    "hotel.columns"
   ]
  },
  {
   "cell_type": "code",
   "execution_count": null,
   "id": "41e0c825",
   "metadata": {},
   "outputs": [],
   "source": []
  },
  {
   "cell_type": "code",
   "execution_count": 7,
   "id": "c463f168",
   "metadata": {},
   "outputs": [
    {
     "data": {
      "text/plain": [
       "BB           92310\n",
       "HB           14463\n",
       "SC           10650\n",
       "Undefined     1169\n",
       "FB             798\n",
       "Name: meal, dtype: int64"
      ]
     },
     "execution_count": 7,
     "metadata": {},
     "output_type": "execute_result"
    }
   ],
   "source": [
    "hotel['meal'].value_counts()"
   ]
  },
  {
   "cell_type": "code",
   "execution_count": 8,
   "id": "849afb03",
   "metadata": {},
   "outputs": [],
   "source": [
    "#How many rows are there?"
   ]
  },
  {
   "cell_type": "code",
   "execution_count": 9,
   "id": "ed8b817a",
   "metadata": {},
   "outputs": [
    {
     "data": {
      "text/plain": [
       "119390"
      ]
     },
     "execution_count": 9,
     "metadata": {},
     "output_type": "execute_result"
    }
   ],
   "source": [
    "len(hotel)"
   ]
  },
  {
   "cell_type": "code",
   "execution_count": 10,
   "id": "d14459db",
   "metadata": {},
   "outputs": [
    {
     "data": {
      "text/plain": [
       "(119390, 36)"
      ]
     },
     "execution_count": 10,
     "metadata": {},
     "output_type": "execute_result"
    }
   ],
   "source": [
    "hotel.shape"
   ]
  },
  {
   "cell_type": "code",
   "execution_count": 11,
   "id": "6727d930",
   "metadata": {},
   "outputs": [
    {
     "data": {
      "text/plain": [
       "hotel                                  0\n",
       "is_canceled                            0\n",
       "lead_time                              0\n",
       "arrival_date_year                      0\n",
       "arrival_date_month                     0\n",
       "arrival_date_week_number               0\n",
       "arrival_date_day_of_month              0\n",
       "stays_in_weekend_nights                0\n",
       "stays_in_week_nights                   0\n",
       "adults                                 0\n",
       "children                               4\n",
       "babies                                 0\n",
       "meal                                   0\n",
       "country                              488\n",
       "market_segment                         0\n",
       "distribution_channel                   0\n",
       "is_repeated_guest                      0\n",
       "previous_cancellations                 0\n",
       "previous_bookings_not_canceled         0\n",
       "reserved_room_type                     0\n",
       "assigned_room_type                     0\n",
       "booking_changes                        0\n",
       "deposit_type                           0\n",
       "agent                              16340\n",
       "company                           112593\n",
       "days_in_waiting_list                   0\n",
       "customer_type                          0\n",
       "adr                                    0\n",
       "required_car_parking_spaces            0\n",
       "total_of_special_requests              0\n",
       "reservation_status                     0\n",
       "reservation_status_date                0\n",
       "name                                   0\n",
       "email                                  0\n",
       "phone-number                           0\n",
       "credit_card                            0\n",
       "dtype: int64"
      ]
     },
     "execution_count": 11,
     "metadata": {},
     "output_type": "execute_result"
    }
   ],
   "source": [
    "hotel.isnull().sum()"
   ]
  },
  {
   "cell_type": "code",
   "execution_count": 12,
   "id": "82d6ed25",
   "metadata": {},
   "outputs": [
    {
     "name": "stdout",
     "output_type": "stream",
     "text": [
      "0           0.00\n",
      "1           0.00\n",
      "2          75.00\n",
      "3          75.00\n",
      "4          98.00\n",
      "           ...  \n",
      "119385     96.14\n",
      "119386    225.43\n",
      "119387    157.71\n",
      "119388    104.40\n",
      "119389    151.20\n",
      "Name: adr, Length: 119390, dtype: float64\n"
     ]
    }
   ],
   "source": [
    "print(hotel['adr'])"
   ]
  },
  {
   "cell_type": "code",
   "execution_count": 13,
   "id": "63de196f",
   "metadata": {},
   "outputs": [
    {
     "name": "stdout",
     "output_type": "stream",
     "text": [
      "Column with most missing ldata is 112593\n"
     ]
    }
   ],
   "source": [
    "print(f\"Column with most missing ldata is {hotel['company'].isna().sum()}\")"
   ]
  },
  {
   "cell_type": "code",
   "execution_count": 14,
   "id": "3ac0edc9",
   "metadata": {},
   "outputs": [],
   "source": [
    "hotel.drop('company', axis=1, inplace = True)"
   ]
  },
  {
   "cell_type": "code",
   "execution_count": 15,
   "id": "fc351457",
   "metadata": {},
   "outputs": [
    {
     "data": {
      "text/plain": [
       "Index(['hotel', 'is_canceled', 'lead_time', 'arrival_date_year',\n",
       "       'arrival_date_month', 'arrival_date_week_number',\n",
       "       'arrival_date_day_of_month', 'stays_in_weekend_nights',\n",
       "       'stays_in_week_nights', 'adults', 'children', 'babies', 'meal',\n",
       "       'country', 'market_segment', 'distribution_channel',\n",
       "       'is_repeated_guest', 'previous_cancellations',\n",
       "       'previous_bookings_not_canceled', 'reserved_room_type',\n",
       "       'assigned_room_type', 'booking_changes', 'deposit_type', 'agent',\n",
       "       'days_in_waiting_list', 'customer_type', 'adr',\n",
       "       'required_car_parking_spaces', 'total_of_special_requests',\n",
       "       'reservation_status', 'reservation_status_date', 'name', 'email',\n",
       "       'phone-number', 'credit_card'],\n",
       "      dtype='object')"
      ]
     },
     "execution_count": 15,
     "metadata": {},
     "output_type": "execute_result"
    }
   ],
   "source": [
    "hotel.columns"
   ]
  },
  {
   "cell_type": "code",
   "execution_count": 16,
   "id": "dcc222d4",
   "metadata": {},
   "outputs": [
    {
     "data": {
      "text/plain": [
       "(119390, 35)"
      ]
     },
     "execution_count": 16,
     "metadata": {},
     "output_type": "execute_result"
    }
   ],
   "source": [
    "hotel.shape"
   ]
  },
  {
   "cell_type": "code",
   "execution_count": 17,
   "id": "5d00fd9e",
   "metadata": {},
   "outputs": [
    {
     "data": {
      "text/plain": [
       "PRT    48590\n",
       "GBR    12129\n",
       "FRA    10415\n",
       "ESP     8568\n",
       "DEU     7287\n",
       "ITA     3766\n",
       "IRL     3375\n",
       "BEL     2342\n",
       "BRA     2224\n",
       "NLD     2104\n",
       "Name: country, dtype: int64"
      ]
     },
     "execution_count": 17,
     "metadata": {},
     "output_type": "execute_result"
    }
   ],
   "source": [
    "hotel['country'].value_counts()[0:10]"
   ]
  },
  {
   "cell_type": "code",
   "execution_count": 18,
   "id": "3451384d",
   "metadata": {},
   "outputs": [
    {
     "data": {
      "text/plain": [
       "48515"
      ]
     },
     "execution_count": 18,
     "metadata": {},
     "output_type": "execute_result"
    }
   ],
   "source": [
    "#Person who paid highest adr\n",
    "\n",
    "hotel.sort_values(by = 'adr', ascending = False)[['name','email','phone-number','adr']].index[0]"
   ]
  },
  {
   "cell_type": "code",
   "execution_count": 19,
   "id": "f8ed0939",
   "metadata": {},
   "outputs": [],
   "source": [
    "#find mean adr across the data-set.\n",
    "#find mean number of nights for a stay. round this to 2 decimal points.\n",
    "#find avg total cost for a stay. round this to 2 decimal points."
   ]
  },
  {
   "cell_type": "code",
   "execution_count": 20,
   "id": "d17ac0ca",
   "metadata": {},
   "outputs": [
    {
     "data": {
      "text/plain": [
       "0           0.00\n",
       "1           0.00\n",
       "2          75.00\n",
       "3          75.00\n",
       "4          98.00\n",
       "           ...  \n",
       "119385     96.14\n",
       "119386    225.43\n",
       "119387    157.71\n",
       "119388    104.40\n",
       "119389    151.20\n",
       "Name: adr, Length: 119390, dtype: float64"
      ]
     },
     "execution_count": 20,
     "metadata": {},
     "output_type": "execute_result"
    }
   ],
   "source": [
    "hotel['adr']"
   ]
  },
  {
   "cell_type": "markdown",
   "id": "88539fb1",
   "metadata": {},
   "source": [
    "# find mean adr across the data-set."
   ]
  },
  {
   "cell_type": "code",
   "execution_count": 21,
   "id": "f9921602",
   "metadata": {},
   "outputs": [],
   "source": [
    "# mean = (sum of the elements / total number of elements)"
   ]
  },
  {
   "cell_type": "code",
   "execution_count": 22,
   "id": "3c53b9b7",
   "metadata": {},
   "outputs": [],
   "source": [
    "num_of_ele = len(hotel['adr'])"
   ]
  },
  {
   "cell_type": "code",
   "execution_count": 23,
   "id": "00a6775d",
   "metadata": {},
   "outputs": [
    {
     "name": "stdout",
     "output_type": "stream",
     "text": [
      "mean-adr = 101.83112153446453\n"
     ]
    }
   ],
   "source": [
    "sum_num = 0\n",
    "for i in hotel['adr']:\n",
    "    sum_num = sum_num + i\n",
    "mean = sum_num/num_of_ele    \n",
    "print(f\"mean-adr = {mean}\")"
   ]
  },
  {
   "cell_type": "code",
   "execution_count": 24,
   "id": "440676fd",
   "metadata": {},
   "outputs": [
    {
     "name": "stdout",
     "output_type": "stream",
     "text": [
      "mean-adr = 101.83112153446453\n"
     ]
    }
   ],
   "source": [
    "total_sum = sum(hotel['adr'])\n",
    "mean_adr = total_sum / len(hotel['adr'])\n",
    "print(f\"mean-adr = {mean_adr}\")"
   ]
  },
  {
   "cell_type": "code",
   "execution_count": 25,
   "id": "a4641e05",
   "metadata": {},
   "outputs": [
    {
     "name": "stdout",
     "output_type": "stream",
     "text": [
      "mean-adr = 101.83112153446686\n"
     ]
    }
   ],
   "source": [
    "mean_adr = hotel['adr'].apply(lambda x: x).mean()\n",
    "print(f\"mean-adr = {mean_adr}\")"
   ]
  },
  {
   "cell_type": "code",
   "execution_count": 26,
   "id": "c41ecd2d",
   "metadata": {},
   "outputs": [
    {
     "data": {
      "text/plain": [
       "101.83112153446686"
      ]
     },
     "execution_count": 26,
     "metadata": {},
     "output_type": "execute_result"
    }
   ],
   "source": [
    "mean_adr = hotel['adr'].mean()\n",
    "mean_adr"
   ]
  },
  {
   "cell_type": "markdown",
   "id": "85520c79",
   "metadata": {},
   "source": [
    "# find mean number of nights for a stay. round this to 2 decimal points."
   ]
  },
  {
   "cell_type": "code",
   "execution_count": 27,
   "id": "e5a9acc8",
   "metadata": {},
   "outputs": [
    {
     "data": {
      "text/plain": [
       "Index(['hotel', 'is_canceled', 'lead_time', 'arrival_date_year',\n",
       "       'arrival_date_month', 'arrival_date_week_number',\n",
       "       'arrival_date_day_of_month', 'stays_in_weekend_nights',\n",
       "       'stays_in_week_nights', 'adults', 'children', 'babies', 'meal',\n",
       "       'country', 'market_segment', 'distribution_channel',\n",
       "       'is_repeated_guest', 'previous_cancellations',\n",
       "       'previous_bookings_not_canceled', 'reserved_room_type',\n",
       "       'assigned_room_type', 'booking_changes', 'deposit_type', 'agent',\n",
       "       'days_in_waiting_list', 'customer_type', 'adr',\n",
       "       'required_car_parking_spaces', 'total_of_special_requests',\n",
       "       'reservation_status', 'reservation_status_date', 'name', 'email',\n",
       "       'phone-number', 'credit_card'],\n",
       "      dtype='object')"
      ]
     },
     "execution_count": 27,
     "metadata": {},
     "output_type": "execute_result"
    }
   ],
   "source": [
    "hotel.columns"
   ]
  },
  {
   "cell_type": "code",
   "execution_count": 28,
   "id": "d775e043",
   "metadata": {},
   "outputs": [
    {
     "data": {
      "text/html": [
       "<div>\n",
       "<style scoped>\n",
       "    .dataframe tbody tr th:only-of-type {\n",
       "        vertical-align: middle;\n",
       "    }\n",
       "\n",
       "    .dataframe tbody tr th {\n",
       "        vertical-align: top;\n",
       "    }\n",
       "\n",
       "    .dataframe thead th {\n",
       "        text-align: right;\n",
       "    }\n",
       "</style>\n",
       "<table border=\"1\" class=\"dataframe\">\n",
       "  <thead>\n",
       "    <tr style=\"text-align: right;\">\n",
       "      <th></th>\n",
       "      <th>stays_in_weekend_nights</th>\n",
       "      <th>stays_in_week_nights</th>\n",
       "    </tr>\n",
       "  </thead>\n",
       "  <tbody>\n",
       "    <tr>\n",
       "      <th>0</th>\n",
       "      <td>0</td>\n",
       "      <td>0</td>\n",
       "    </tr>\n",
       "    <tr>\n",
       "      <th>1</th>\n",
       "      <td>0</td>\n",
       "      <td>0</td>\n",
       "    </tr>\n",
       "    <tr>\n",
       "      <th>2</th>\n",
       "      <td>0</td>\n",
       "      <td>1</td>\n",
       "    </tr>\n",
       "    <tr>\n",
       "      <th>3</th>\n",
       "      <td>0</td>\n",
       "      <td>1</td>\n",
       "    </tr>\n",
       "    <tr>\n",
       "      <th>4</th>\n",
       "      <td>0</td>\n",
       "      <td>2</td>\n",
       "    </tr>\n",
       "    <tr>\n",
       "      <th>...</th>\n",
       "      <td>...</td>\n",
       "      <td>...</td>\n",
       "    </tr>\n",
       "    <tr>\n",
       "      <th>119385</th>\n",
       "      <td>2</td>\n",
       "      <td>5</td>\n",
       "    </tr>\n",
       "    <tr>\n",
       "      <th>119386</th>\n",
       "      <td>2</td>\n",
       "      <td>5</td>\n",
       "    </tr>\n",
       "    <tr>\n",
       "      <th>119387</th>\n",
       "      <td>2</td>\n",
       "      <td>5</td>\n",
       "    </tr>\n",
       "    <tr>\n",
       "      <th>119388</th>\n",
       "      <td>2</td>\n",
       "      <td>5</td>\n",
       "    </tr>\n",
       "    <tr>\n",
       "      <th>119389</th>\n",
       "      <td>2</td>\n",
       "      <td>7</td>\n",
       "    </tr>\n",
       "  </tbody>\n",
       "</table>\n",
       "<p>119390 rows × 2 columns</p>\n",
       "</div>"
      ],
      "text/plain": [
       "        stays_in_weekend_nights  stays_in_week_nights\n",
       "0                             0                     0\n",
       "1                             0                     0\n",
       "2                             0                     1\n",
       "3                             0                     1\n",
       "4                             0                     2\n",
       "...                         ...                   ...\n",
       "119385                        2                     5\n",
       "119386                        2                     5\n",
       "119387                        2                     5\n",
       "119388                        2                     5\n",
       "119389                        2                     7\n",
       "\n",
       "[119390 rows x 2 columns]"
      ]
     },
     "execution_count": 28,
     "metadata": {},
     "output_type": "execute_result"
    }
   ],
   "source": [
    "hotel[['stays_in_weekend_nights', 'stays_in_week_nights']]"
   ]
  },
  {
   "cell_type": "code",
   "execution_count": 29,
   "id": "bb8b7c92",
   "metadata": {},
   "outputs": [
    {
     "data": {
      "text/plain": [
       "3.43"
      ]
     },
     "execution_count": 29,
     "metadata": {},
     "output_type": "execute_result"
    }
   ],
   "source": [
    "t_mean = hotel['stays_in_weekend_nights'].mean() + hotel['stays_in_week_nights'].mean()\n",
    "r_mean = round(t_mean,2)\n",
    "r_mean"
   ]
  },
  {
   "cell_type": "code",
   "execution_count": 30,
   "id": "c64ad58a",
   "metadata": {},
   "outputs": [
    {
     "name": "stdout",
     "output_type": "stream",
     "text": [
      "Mean number of nights for a stay: 3.43\n"
     ]
    }
   ],
   "source": [
    "mean_stay_nights = hotel[['stays_in_weekend_nights', 'stays_in_week_nights']].mean()\n",
    "mean_stay_nights = round(mean_stay_nights,2)\n",
    "new_mean = mean_stay_nights[0] + mean_stay_nights[1]\n",
    "print(f\"Mean number of nights for a stay: {new_mean}\")"
   ]
  },
  {
   "cell_type": "code",
   "execution_count": 31,
   "id": "f3dc21ed",
   "metadata": {},
   "outputs": [
    {
     "name": "stdout",
     "output_type": "stream",
     "text": [
      "Mean number of nights for a stay: 3.43\n"
     ]
    }
   ],
   "source": [
    "mean_stay_nights = hotel[['stays_in_weekend_nights', 'stays_in_week_nights']].apply(lambda x: x[0] + x[1], axis=1).mean()\n",
    "mean_stay_nights = round(mean_stay_nights, 2)\n",
    "\n",
    "print(f\"Mean number of nights for a stay: {mean_stay_nights}\")\n"
   ]
  },
  {
   "cell_type": "code",
   "execution_count": 32,
   "id": "58509511",
   "metadata": {},
   "outputs": [
    {
     "data": {
      "text/plain": [
       "3.43"
      ]
     },
     "execution_count": 32,
     "metadata": {},
     "output_type": "execute_result"
    }
   ],
   "source": [
    "0.93 + 2.50"
   ]
  },
  {
   "cell_type": "markdown",
   "id": "3914de1f",
   "metadata": {},
   "source": [
    "# find avg total cost for a stay. round this to 2 decimal points."
   ]
  },
  {
   "cell_type": "code",
   "execution_count": 33,
   "id": "16da400a",
   "metadata": {},
   "outputs": [
    {
     "data": {
      "text/plain": [
       "Index(['hotel', 'is_canceled', 'lead_time', 'arrival_date_year',\n",
       "       'arrival_date_month', 'arrival_date_week_number',\n",
       "       'arrival_date_day_of_month', 'stays_in_weekend_nights',\n",
       "       'stays_in_week_nights', 'adults', 'children', 'babies', 'meal',\n",
       "       'country', 'market_segment', 'distribution_channel',\n",
       "       'is_repeated_guest', 'previous_cancellations',\n",
       "       'previous_bookings_not_canceled', 'reserved_room_type',\n",
       "       'assigned_room_type', 'booking_changes', 'deposit_type', 'agent',\n",
       "       'days_in_waiting_list', 'customer_type', 'adr',\n",
       "       'required_car_parking_spaces', 'total_of_special_requests',\n",
       "       'reservation_status', 'reservation_status_date', 'name', 'email',\n",
       "       'phone-number', 'credit_card'],\n",
       "      dtype='object')"
      ]
     },
     "execution_count": 33,
     "metadata": {},
     "output_type": "execute_result"
    }
   ],
   "source": [
    "hotel.columns"
   ]
  },
  {
   "cell_type": "markdown",
   "id": "67f269ad",
   "metadata": {},
   "source": [
    "$$\n",
    "\\text{Total Cost} = \\text{ADR} \\times \\text{(stays_in_weekend_night + stays_in_week_nigths)}\n",
    "$$"
   ]
  },
  {
   "cell_type": "code",
   "execution_count": 34,
   "id": "6f121537",
   "metadata": {},
   "outputs": [],
   "source": [
    "tc_stay = hotel['adr']*(hotel['stays_in_weekend_nights']+hotel['stays_in_week_nights'])"
   ]
  },
  {
   "cell_type": "code",
   "execution_count": 35,
   "id": "cb97adb6",
   "metadata": {},
   "outputs": [
    {
     "data": {
      "text/plain": [
       "0            0.00\n",
       "1            0.00\n",
       "2           75.00\n",
       "3           75.00\n",
       "4          196.00\n",
       "           ...   \n",
       "119385     672.98\n",
       "119386    1578.01\n",
       "119387    1103.97\n",
       "119388     730.80\n",
       "119389    1360.80\n",
       "Length: 119390, dtype: float64"
      ]
     },
     "execution_count": 35,
     "metadata": {},
     "output_type": "execute_result"
    }
   ],
   "source": [
    "tc_stay"
   ]
  },
  {
   "cell_type": "code",
   "execution_count": 38,
   "id": "5afa013b",
   "metadata": {},
   "outputs": [],
   "source": [
    "hotel = hotel.assign(average_total_cost=tc_stay)"
   ]
  },
  {
   "cell_type": "code",
   "execution_count": 40,
   "id": "fea9242a",
   "metadata": {},
   "outputs": [
    {
     "data": {
      "text/plain": [
       "357.85"
      ]
     },
     "execution_count": 40,
     "metadata": {},
     "output_type": "execute_result"
    }
   ],
   "source": [
    "overall_avg_total_cost = round(tc_stay.mean(), 2)\n",
    "overall_avg_total_cost"
   ]
  },
  {
   "cell_type": "code",
   "execution_count": null,
   "id": "3cba97a1",
   "metadata": {},
   "outputs": [],
   "source": []
  },
  {
   "cell_type": "code",
   "execution_count": null,
   "id": "0e869b07",
   "metadata": {},
   "outputs": [],
   "source": [
    "#get name and email of people who made 5 'special requests'"
   ]
  },
  {
   "cell_type": "code",
   "execution_count": 41,
   "id": "f8fe8136",
   "metadata": {
    "scrolled": true
   },
   "outputs": [
    {
     "data": {
      "text/plain": [
       "Index(['hotel', 'is_canceled', 'lead_time', 'arrival_date_year',\n",
       "       'arrival_date_month', 'arrival_date_week_number',\n",
       "       'arrival_date_day_of_month', 'stays_in_weekend_nights',\n",
       "       'stays_in_week_nights', 'adults', 'children', 'babies', 'meal',\n",
       "       'country', 'market_segment', 'distribution_channel',\n",
       "       'is_repeated_guest', 'previous_cancellations',\n",
       "       'previous_bookings_not_canceled', 'reserved_room_type',\n",
       "       'assigned_room_type', 'booking_changes', 'deposit_type', 'agent',\n",
       "       'days_in_waiting_list', 'customer_type', 'adr',\n",
       "       'required_car_parking_spaces', 'total_of_special_requests',\n",
       "       'reservation_status', 'reservation_status_date', 'name', 'email',\n",
       "       'phone-number', 'credit_card', 'average_total_cost'],\n",
       "      dtype='object')"
      ]
     },
     "execution_count": 41,
     "metadata": {},
     "output_type": "execute_result"
    }
   ],
   "source": [
    "hotel.columns"
   ]
  },
  {
   "cell_type": "code",
   "execution_count": 42,
   "id": "d661cd04",
   "metadata": {},
   "outputs": [
    {
     "data": {
      "text/html": [
       "<div>\n",
       "<style scoped>\n",
       "    .dataframe tbody tr th:only-of-type {\n",
       "        vertical-align: middle;\n",
       "    }\n",
       "\n",
       "    .dataframe tbody tr th {\n",
       "        vertical-align: top;\n",
       "    }\n",
       "\n",
       "    .dataframe thead th {\n",
       "        text-align: right;\n",
       "    }\n",
       "</style>\n",
       "<table border=\"1\" class=\"dataframe\">\n",
       "  <thead>\n",
       "    <tr style=\"text-align: right;\">\n",
       "      <th></th>\n",
       "      <th>name</th>\n",
       "      <th>email</th>\n",
       "      <th>total_of_special_requests</th>\n",
       "    </tr>\n",
       "  </thead>\n",
       "  <tbody>\n",
       "    <tr>\n",
       "      <th>0</th>\n",
       "      <td>Ernest Barnes</td>\n",
       "      <td>Ernest.Barnes31@outlook.com</td>\n",
       "      <td>0</td>\n",
       "    </tr>\n",
       "    <tr>\n",
       "      <th>1</th>\n",
       "      <td>Andrea Baker</td>\n",
       "      <td>Andrea_Baker94@aol.com</td>\n",
       "      <td>0</td>\n",
       "    </tr>\n",
       "    <tr>\n",
       "      <th>2</th>\n",
       "      <td>Rebecca Parker</td>\n",
       "      <td>Rebecca_Parker@comcast.net</td>\n",
       "      <td>0</td>\n",
       "    </tr>\n",
       "    <tr>\n",
       "      <th>3</th>\n",
       "      <td>Laura Murray</td>\n",
       "      <td>Laura_M@gmail.com</td>\n",
       "      <td>0</td>\n",
       "    </tr>\n",
       "    <tr>\n",
       "      <th>4</th>\n",
       "      <td>Linda Hines</td>\n",
       "      <td>LHines@verizon.com</td>\n",
       "      <td>1</td>\n",
       "    </tr>\n",
       "    <tr>\n",
       "      <th>...</th>\n",
       "      <td>...</td>\n",
       "      <td>...</td>\n",
       "      <td>...</td>\n",
       "    </tr>\n",
       "    <tr>\n",
       "      <th>119385</th>\n",
       "      <td>Claudia Johnson</td>\n",
       "      <td>Claudia.J@yahoo.com</td>\n",
       "      <td>0</td>\n",
       "    </tr>\n",
       "    <tr>\n",
       "      <th>119386</th>\n",
       "      <td>Wesley Aguilar</td>\n",
       "      <td>WAguilar@xfinity.com</td>\n",
       "      <td>2</td>\n",
       "    </tr>\n",
       "    <tr>\n",
       "      <th>119387</th>\n",
       "      <td>Mary Morales</td>\n",
       "      <td>Mary_Morales@hotmail.com</td>\n",
       "      <td>4</td>\n",
       "    </tr>\n",
       "    <tr>\n",
       "      <th>119388</th>\n",
       "      <td>Caroline Conley MD</td>\n",
       "      <td>MD_Caroline@comcast.net</td>\n",
       "      <td>0</td>\n",
       "    </tr>\n",
       "    <tr>\n",
       "      <th>119389</th>\n",
       "      <td>Ariana Michael</td>\n",
       "      <td>Ariana_M@xfinity.com</td>\n",
       "      <td>2</td>\n",
       "    </tr>\n",
       "  </tbody>\n",
       "</table>\n",
       "<p>119390 rows × 3 columns</p>\n",
       "</div>"
      ],
      "text/plain": [
       "                      name                        email  \\\n",
       "0            Ernest Barnes  Ernest.Barnes31@outlook.com   \n",
       "1             Andrea Baker       Andrea_Baker94@aol.com   \n",
       "2           Rebecca Parker   Rebecca_Parker@comcast.net   \n",
       "3             Laura Murray            Laura_M@gmail.com   \n",
       "4              Linda Hines           LHines@verizon.com   \n",
       "...                    ...                          ...   \n",
       "119385     Claudia Johnson          Claudia.J@yahoo.com   \n",
       "119386      Wesley Aguilar         WAguilar@xfinity.com   \n",
       "119387        Mary Morales     Mary_Morales@hotmail.com   \n",
       "119388  Caroline Conley MD      MD_Caroline@comcast.net   \n",
       "119389      Ariana Michael         Ariana_M@xfinity.com   \n",
       "\n",
       "        total_of_special_requests  \n",
       "0                               0  \n",
       "1                               0  \n",
       "2                               0  \n",
       "3                               0  \n",
       "4                               1  \n",
       "...                           ...  \n",
       "119385                          0  \n",
       "119386                          2  \n",
       "119387                          4  \n",
       "119388                          0  \n",
       "119389                          2  \n",
       "\n",
       "[119390 rows x 3 columns]"
      ]
     },
     "execution_count": 42,
     "metadata": {},
     "output_type": "execute_result"
    }
   ],
   "source": [
    "hotel[['name','email','total_of_special_requests']]"
   ]
  },
  {
   "cell_type": "code",
   "execution_count": 43,
   "id": "25ddaa04",
   "metadata": {
    "scrolled": true
   },
   "outputs": [
    {
     "data": {
      "text/html": [
       "<div>\n",
       "<style scoped>\n",
       "    .dataframe tbody tr th:only-of-type {\n",
       "        vertical-align: middle;\n",
       "    }\n",
       "\n",
       "    .dataframe tbody tr th {\n",
       "        vertical-align: top;\n",
       "    }\n",
       "\n",
       "    .dataframe thead th {\n",
       "        text-align: right;\n",
       "    }\n",
       "</style>\n",
       "<table border=\"1\" class=\"dataframe\">\n",
       "  <thead>\n",
       "    <tr style=\"text-align: right;\">\n",
       "      <th></th>\n",
       "      <th>name</th>\n",
       "      <th>email</th>\n",
       "    </tr>\n",
       "  </thead>\n",
       "  <tbody>\n",
       "    <tr>\n",
       "      <th>7860</th>\n",
       "      <td>Amanda Harper</td>\n",
       "      <td>Amanda.H66@yahoo.com</td>\n",
       "    </tr>\n",
       "    <tr>\n",
       "      <th>11125</th>\n",
       "      <td>Laura Sanders</td>\n",
       "      <td>Sanders_Laura@hotmail.com</td>\n",
       "    </tr>\n",
       "    <tr>\n",
       "      <th>14596</th>\n",
       "      <td>Tommy Ortiz</td>\n",
       "      <td>Tommy_O@hotmail.com</td>\n",
       "    </tr>\n",
       "    <tr>\n",
       "      <th>14921</th>\n",
       "      <td>Gilbert Miller</td>\n",
       "      <td>Miller.Gilbert@aol.com</td>\n",
       "    </tr>\n",
       "    <tr>\n",
       "      <th>14922</th>\n",
       "      <td>Timothy Torres</td>\n",
       "      <td>TTorres@protonmail.com</td>\n",
       "    </tr>\n",
       "    <tr>\n",
       "      <th>24630</th>\n",
       "      <td>Jennifer Weaver</td>\n",
       "      <td>Jennifer_W@aol.com</td>\n",
       "    </tr>\n",
       "    <tr>\n",
       "      <th>27288</th>\n",
       "      <td>Crystal Horton</td>\n",
       "      <td>Crystal.H@mail.com</td>\n",
       "    </tr>\n",
       "    <tr>\n",
       "      <th>27477</th>\n",
       "      <td>Brittney Burke</td>\n",
       "      <td>Burke_Brittney16@att.com</td>\n",
       "    </tr>\n",
       "    <tr>\n",
       "      <th>29906</th>\n",
       "      <td>Cynthia Cabrera</td>\n",
       "      <td>Cabrera.Cynthia@xfinity.com</td>\n",
       "    </tr>\n",
       "    <tr>\n",
       "      <th>29949</th>\n",
       "      <td>Sarah Floyd</td>\n",
       "      <td>Sarah_F@gmail.com</td>\n",
       "    </tr>\n",
       "    <tr>\n",
       "      <th>32267</th>\n",
       "      <td>Michelle Villa</td>\n",
       "      <td>Michelle.Villa@aol.com</td>\n",
       "    </tr>\n",
       "    <tr>\n",
       "      <th>39027</th>\n",
       "      <td>Nichole Hebert</td>\n",
       "      <td>Hebert.Nichole@gmail.com</td>\n",
       "    </tr>\n",
       "    <tr>\n",
       "      <th>39129</th>\n",
       "      <td>Lindsey Mckenzie</td>\n",
       "      <td>Lindsey.Mckenzie@att.com</td>\n",
       "    </tr>\n",
       "    <tr>\n",
       "      <th>39525</th>\n",
       "      <td>Ashley Edwards</td>\n",
       "      <td>Edwards.Ashley@yahoo.com</td>\n",
       "    </tr>\n",
       "    <tr>\n",
       "      <th>70114</th>\n",
       "      <td>Christopher Torres</td>\n",
       "      <td>Torres.Christopher@gmail.com</td>\n",
       "    </tr>\n",
       "    <tr>\n",
       "      <th>78819</th>\n",
       "      <td>Mrs. Tara Sullivan DVM</td>\n",
       "      <td>Mrs..DVM@xfinity.com</td>\n",
       "    </tr>\n",
       "    <tr>\n",
       "      <th>78820</th>\n",
       "      <td>Michaela Brown</td>\n",
       "      <td>MichaelaBrown@att.com</td>\n",
       "    </tr>\n",
       "    <tr>\n",
       "      <th>78822</th>\n",
       "      <td>Kurt Maldonado MD</td>\n",
       "      <td>KMD15@xfinity.com</td>\n",
       "    </tr>\n",
       "    <tr>\n",
       "      <th>97072</th>\n",
       "      <td>Jason Richardson</td>\n",
       "      <td>Jason.R@zoho.com</td>\n",
       "    </tr>\n",
       "    <tr>\n",
       "      <th>97099</th>\n",
       "      <td>Terri Hurley</td>\n",
       "      <td>THurley@xfinity.com</td>\n",
       "    </tr>\n",
       "    <tr>\n",
       "      <th>97261</th>\n",
       "      <td>Mrs. Caitlin Webb</td>\n",
       "      <td>Mrs._W@comcast.net</td>\n",
       "    </tr>\n",
       "    <tr>\n",
       "      <th>98410</th>\n",
       "      <td>Holly Arroyo</td>\n",
       "      <td>Arroyo_Holly@mail.com</td>\n",
       "    </tr>\n",
       "    <tr>\n",
       "      <th>98674</th>\n",
       "      <td>Denise Campbell</td>\n",
       "      <td>Denise_C@gmail.com</td>\n",
       "    </tr>\n",
       "    <tr>\n",
       "      <th>99887</th>\n",
       "      <td>Michael Smith</td>\n",
       "      <td>Michael.S42@aol.com</td>\n",
       "    </tr>\n",
       "    <tr>\n",
       "      <th>99888</th>\n",
       "      <td>Dr. Trevor Sellers</td>\n",
       "      <td>Dr._S@aol.com</td>\n",
       "    </tr>\n",
       "    <tr>\n",
       "      <th>101569</th>\n",
       "      <td>Kayla Murphy</td>\n",
       "      <td>Kayla.Murphy@yahoo.com</td>\n",
       "    </tr>\n",
       "    <tr>\n",
       "      <th>102061</th>\n",
       "      <td>Taylor Martinez</td>\n",
       "      <td>Taylor.Martinez@hotmail.com</td>\n",
       "    </tr>\n",
       "    <tr>\n",
       "      <th>109511</th>\n",
       "      <td>Charles Wilson</td>\n",
       "      <td>Charles_Wilson@yahoo.com</td>\n",
       "    </tr>\n",
       "    <tr>\n",
       "      <th>109590</th>\n",
       "      <td>Tyler Allison</td>\n",
       "      <td>Tyler.A@protonmail.com</td>\n",
       "    </tr>\n",
       "    <tr>\n",
       "      <th>110082</th>\n",
       "      <td>Matthew Bailey</td>\n",
       "      <td>Matthew_Bailey@aol.com</td>\n",
       "    </tr>\n",
       "    <tr>\n",
       "      <th>110083</th>\n",
       "      <td>Charlotte Acevedo</td>\n",
       "      <td>Charlotte_A@verizon.com</td>\n",
       "    </tr>\n",
       "    <tr>\n",
       "      <th>111909</th>\n",
       "      <td>Darrell Brennan</td>\n",
       "      <td>Brennan_Darrell51@hotmail.com</td>\n",
       "    </tr>\n",
       "    <tr>\n",
       "      <th>111911</th>\n",
       "      <td>Melinda Jensen</td>\n",
       "      <td>MelindaJensen@zoho.com</td>\n",
       "    </tr>\n",
       "    <tr>\n",
       "      <th>113915</th>\n",
       "      <td>Terry Arnold</td>\n",
       "      <td>Arnold.Terry@zoho.com</td>\n",
       "    </tr>\n",
       "    <tr>\n",
       "      <th>114770</th>\n",
       "      <td>Mary Nguyen</td>\n",
       "      <td>Nguyen.Mary@protonmail.com</td>\n",
       "    </tr>\n",
       "    <tr>\n",
       "      <th>114909</th>\n",
       "      <td>Lindsay Cuevas</td>\n",
       "      <td>Lindsay.Cuevas40@mail.com</td>\n",
       "    </tr>\n",
       "    <tr>\n",
       "      <th>116455</th>\n",
       "      <td>Cynthia Hernandez</td>\n",
       "      <td>CynthiaHernandez@xfinity.com</td>\n",
       "    </tr>\n",
       "    <tr>\n",
       "      <th>116457</th>\n",
       "      <td>Angela Hawkins</td>\n",
       "      <td>Angela_H@gmail.com</td>\n",
       "    </tr>\n",
       "    <tr>\n",
       "      <th>118817</th>\n",
       "      <td>Sue Lawson</td>\n",
       "      <td>Sue.L52@comcast.net</td>\n",
       "    </tr>\n",
       "    <tr>\n",
       "      <th>119161</th>\n",
       "      <td>Alyssa Richards</td>\n",
       "      <td>Alyssa_Richards@aol.com</td>\n",
       "    </tr>\n",
       "  </tbody>\n",
       "</table>\n",
       "</div>"
      ],
      "text/plain": [
       "                          name                          email\n",
       "7860             Amanda Harper           Amanda.H66@yahoo.com\n",
       "11125            Laura Sanders      Sanders_Laura@hotmail.com\n",
       "14596              Tommy Ortiz            Tommy_O@hotmail.com\n",
       "14921           Gilbert Miller         Miller.Gilbert@aol.com\n",
       "14922           Timothy Torres         TTorres@protonmail.com\n",
       "24630          Jennifer Weaver             Jennifer_W@aol.com\n",
       "27288           Crystal Horton             Crystal.H@mail.com\n",
       "27477           Brittney Burke       Burke_Brittney16@att.com\n",
       "29906          Cynthia Cabrera    Cabrera.Cynthia@xfinity.com\n",
       "29949              Sarah Floyd              Sarah_F@gmail.com\n",
       "32267           Michelle Villa         Michelle.Villa@aol.com\n",
       "39027           Nichole Hebert       Hebert.Nichole@gmail.com\n",
       "39129         Lindsey Mckenzie       Lindsey.Mckenzie@att.com\n",
       "39525           Ashley Edwards       Edwards.Ashley@yahoo.com\n",
       "70114       Christopher Torres   Torres.Christopher@gmail.com\n",
       "78819   Mrs. Tara Sullivan DVM           Mrs..DVM@xfinity.com\n",
       "78820           Michaela Brown          MichaelaBrown@att.com\n",
       "78822        Kurt Maldonado MD              KMD15@xfinity.com\n",
       "97072         Jason Richardson               Jason.R@zoho.com\n",
       "97099             Terri Hurley            THurley@xfinity.com\n",
       "97261        Mrs. Caitlin Webb             Mrs._W@comcast.net\n",
       "98410             Holly Arroyo          Arroyo_Holly@mail.com\n",
       "98674          Denise Campbell             Denise_C@gmail.com\n",
       "99887            Michael Smith            Michael.S42@aol.com\n",
       "99888       Dr. Trevor Sellers                  Dr._S@aol.com\n",
       "101569            Kayla Murphy         Kayla.Murphy@yahoo.com\n",
       "102061         Taylor Martinez    Taylor.Martinez@hotmail.com\n",
       "109511          Charles Wilson       Charles_Wilson@yahoo.com\n",
       "109590           Tyler Allison         Tyler.A@protonmail.com\n",
       "110082          Matthew Bailey         Matthew_Bailey@aol.com\n",
       "110083       Charlotte Acevedo        Charlotte_A@verizon.com\n",
       "111909         Darrell Brennan  Brennan_Darrell51@hotmail.com\n",
       "111911          Melinda Jensen         MelindaJensen@zoho.com\n",
       "113915            Terry Arnold          Arnold.Terry@zoho.com\n",
       "114770             Mary Nguyen     Nguyen.Mary@protonmail.com\n",
       "114909          Lindsay Cuevas      Lindsay.Cuevas40@mail.com\n",
       "116455       Cynthia Hernandez   CynthiaHernandez@xfinity.com\n",
       "116457          Angela Hawkins             Angela_H@gmail.com\n",
       "118817              Sue Lawson            Sue.L52@comcast.net\n",
       "119161         Alyssa Richards        Alyssa_Richards@aol.com"
      ]
     },
     "execution_count": 43,
     "metadata": {},
     "output_type": "execute_result"
    }
   ],
   "source": [
    " hotel[hotel['total_of_special_requests'] == 5][['name', 'email']]"
   ]
  },
  {
   "cell_type": "code",
   "execution_count": 44,
   "id": "db037140",
   "metadata": {},
   "outputs": [],
   "source": [
    "#percentage of hotel guests classified as 'repeated guests'"
   ]
  },
  {
   "cell_type": "code",
   "execution_count": 45,
   "id": "8580a6c2",
   "metadata": {},
   "outputs": [
    {
     "data": {
      "text/plain": [
       "3.19"
      ]
     },
     "execution_count": 45,
     "metadata": {},
     "output_type": "execute_result"
    }
   ],
   "source": [
    "round(100*sum(hotel['is_repeated_guest']==1)/len(hotel),2)"
   ]
  },
  {
   "cell_type": "code",
   "execution_count": 46,
   "id": "9a649abc",
   "metadata": {},
   "outputs": [],
   "source": [
    "#top 5 most common last name \n",
    "#optional: do it in single line of code."
   ]
  },
  {
   "cell_type": "code",
   "execution_count": 47,
   "id": "38194842",
   "metadata": {
    "scrolled": true
   },
   "outputs": [],
   "source": [
    "last_name = hotel['name'].apply(lambda x: x.split()[-1])"
   ]
  },
  {
   "cell_type": "code",
   "execution_count": 48,
   "id": "5437d5a8",
   "metadata": {},
   "outputs": [
    {
     "data": {
      "text/plain": [
       "0          Barnes\n",
       "1           Baker\n",
       "2          Parker\n",
       "3          Murray\n",
       "4           Hines\n",
       "           ...   \n",
       "119385    Johnson\n",
       "119386    Aguilar\n",
       "119387    Morales\n",
       "119388         MD\n",
       "119389    Michael\n",
       "Name: name, Length: 119390, dtype: object"
      ]
     },
     "execution_count": 48,
     "metadata": {},
     "output_type": "execute_result"
    }
   ],
   "source": [
    "last_name"
   ]
  },
  {
   "cell_type": "code",
   "execution_count": 49,
   "id": "b6c98190",
   "metadata": {},
   "outputs": [
    {
     "data": {
      "text/html": [
       "<div>\n",
       "<style scoped>\n",
       "    .dataframe tbody tr th:only-of-type {\n",
       "        vertical-align: middle;\n",
       "    }\n",
       "\n",
       "    .dataframe tbody tr th {\n",
       "        vertical-align: top;\n",
       "    }\n",
       "\n",
       "    .dataframe thead th {\n",
       "        text-align: right;\n",
       "    }\n",
       "</style>\n",
       "<table border=\"1\" class=\"dataframe\">\n",
       "  <thead>\n",
       "    <tr style=\"text-align: right;\">\n",
       "      <th></th>\n",
       "      <th>hotel</th>\n",
       "      <th>is_canceled</th>\n",
       "      <th>lead_time</th>\n",
       "      <th>arrival_date_year</th>\n",
       "      <th>arrival_date_month</th>\n",
       "      <th>arrival_date_week_number</th>\n",
       "      <th>arrival_date_day_of_month</th>\n",
       "      <th>stays_in_weekend_nights</th>\n",
       "      <th>stays_in_week_nights</th>\n",
       "      <th>adults</th>\n",
       "      <th>...</th>\n",
       "      <th>required_car_parking_spaces</th>\n",
       "      <th>total_of_special_requests</th>\n",
       "      <th>reservation_status</th>\n",
       "      <th>reservation_status_date</th>\n",
       "      <th>name</th>\n",
       "      <th>email</th>\n",
       "      <th>phone-number</th>\n",
       "      <th>credit_card</th>\n",
       "      <th>average_total_cost</th>\n",
       "      <th>last_names</th>\n",
       "    </tr>\n",
       "  </thead>\n",
       "  <tbody>\n",
       "    <tr>\n",
       "      <th>0</th>\n",
       "      <td>Resort Hotel</td>\n",
       "      <td>0</td>\n",
       "      <td>342</td>\n",
       "      <td>2015</td>\n",
       "      <td>July</td>\n",
       "      <td>27</td>\n",
       "      <td>1</td>\n",
       "      <td>0</td>\n",
       "      <td>0</td>\n",
       "      <td>2</td>\n",
       "      <td>...</td>\n",
       "      <td>0</td>\n",
       "      <td>0</td>\n",
       "      <td>Check-Out</td>\n",
       "      <td>2015-07-01</td>\n",
       "      <td>Ernest Barnes</td>\n",
       "      <td>Ernest.Barnes31@outlook.com</td>\n",
       "      <td>669-792-1661</td>\n",
       "      <td>************4322</td>\n",
       "      <td>0.00</td>\n",
       "      <td>Barnes</td>\n",
       "    </tr>\n",
       "    <tr>\n",
       "      <th>1</th>\n",
       "      <td>Resort Hotel</td>\n",
       "      <td>0</td>\n",
       "      <td>737</td>\n",
       "      <td>2015</td>\n",
       "      <td>July</td>\n",
       "      <td>27</td>\n",
       "      <td>1</td>\n",
       "      <td>0</td>\n",
       "      <td>0</td>\n",
       "      <td>2</td>\n",
       "      <td>...</td>\n",
       "      <td>0</td>\n",
       "      <td>0</td>\n",
       "      <td>Check-Out</td>\n",
       "      <td>2015-07-01</td>\n",
       "      <td>Andrea Baker</td>\n",
       "      <td>Andrea_Baker94@aol.com</td>\n",
       "      <td>858-637-6955</td>\n",
       "      <td>************9157</td>\n",
       "      <td>0.00</td>\n",
       "      <td>Baker</td>\n",
       "    </tr>\n",
       "    <tr>\n",
       "      <th>2</th>\n",
       "      <td>Resort Hotel</td>\n",
       "      <td>0</td>\n",
       "      <td>7</td>\n",
       "      <td>2015</td>\n",
       "      <td>July</td>\n",
       "      <td>27</td>\n",
       "      <td>1</td>\n",
       "      <td>0</td>\n",
       "      <td>1</td>\n",
       "      <td>1</td>\n",
       "      <td>...</td>\n",
       "      <td>0</td>\n",
       "      <td>0</td>\n",
       "      <td>Check-Out</td>\n",
       "      <td>2015-07-02</td>\n",
       "      <td>Rebecca Parker</td>\n",
       "      <td>Rebecca_Parker@comcast.net</td>\n",
       "      <td>652-885-2745</td>\n",
       "      <td>************3734</td>\n",
       "      <td>75.00</td>\n",
       "      <td>Parker</td>\n",
       "    </tr>\n",
       "    <tr>\n",
       "      <th>3</th>\n",
       "      <td>Resort Hotel</td>\n",
       "      <td>0</td>\n",
       "      <td>13</td>\n",
       "      <td>2015</td>\n",
       "      <td>July</td>\n",
       "      <td>27</td>\n",
       "      <td>1</td>\n",
       "      <td>0</td>\n",
       "      <td>1</td>\n",
       "      <td>1</td>\n",
       "      <td>...</td>\n",
       "      <td>0</td>\n",
       "      <td>0</td>\n",
       "      <td>Check-Out</td>\n",
       "      <td>2015-07-02</td>\n",
       "      <td>Laura Murray</td>\n",
       "      <td>Laura_M@gmail.com</td>\n",
       "      <td>364-656-8427</td>\n",
       "      <td>************5677</td>\n",
       "      <td>75.00</td>\n",
       "      <td>Murray</td>\n",
       "    </tr>\n",
       "    <tr>\n",
       "      <th>4</th>\n",
       "      <td>Resort Hotel</td>\n",
       "      <td>0</td>\n",
       "      <td>14</td>\n",
       "      <td>2015</td>\n",
       "      <td>July</td>\n",
       "      <td>27</td>\n",
       "      <td>1</td>\n",
       "      <td>0</td>\n",
       "      <td>2</td>\n",
       "      <td>2</td>\n",
       "      <td>...</td>\n",
       "      <td>0</td>\n",
       "      <td>1</td>\n",
       "      <td>Check-Out</td>\n",
       "      <td>2015-07-03</td>\n",
       "      <td>Linda Hines</td>\n",
       "      <td>LHines@verizon.com</td>\n",
       "      <td>713-226-5883</td>\n",
       "      <td>************5498</td>\n",
       "      <td>196.00</td>\n",
       "      <td>Hines</td>\n",
       "    </tr>\n",
       "    <tr>\n",
       "      <th>...</th>\n",
       "      <td>...</td>\n",
       "      <td>...</td>\n",
       "      <td>...</td>\n",
       "      <td>...</td>\n",
       "      <td>...</td>\n",
       "      <td>...</td>\n",
       "      <td>...</td>\n",
       "      <td>...</td>\n",
       "      <td>...</td>\n",
       "      <td>...</td>\n",
       "      <td>...</td>\n",
       "      <td>...</td>\n",
       "      <td>...</td>\n",
       "      <td>...</td>\n",
       "      <td>...</td>\n",
       "      <td>...</td>\n",
       "      <td>...</td>\n",
       "      <td>...</td>\n",
       "      <td>...</td>\n",
       "      <td>...</td>\n",
       "      <td>...</td>\n",
       "    </tr>\n",
       "    <tr>\n",
       "      <th>119385</th>\n",
       "      <td>City Hotel</td>\n",
       "      <td>0</td>\n",
       "      <td>23</td>\n",
       "      <td>2017</td>\n",
       "      <td>August</td>\n",
       "      <td>35</td>\n",
       "      <td>30</td>\n",
       "      <td>2</td>\n",
       "      <td>5</td>\n",
       "      <td>2</td>\n",
       "      <td>...</td>\n",
       "      <td>0</td>\n",
       "      <td>0</td>\n",
       "      <td>Check-Out</td>\n",
       "      <td>2017-09-06</td>\n",
       "      <td>Claudia Johnson</td>\n",
       "      <td>Claudia.J@yahoo.com</td>\n",
       "      <td>403-092-5582</td>\n",
       "      <td>************8647</td>\n",
       "      <td>672.98</td>\n",
       "      <td>Johnson</td>\n",
       "    </tr>\n",
       "    <tr>\n",
       "      <th>119386</th>\n",
       "      <td>City Hotel</td>\n",
       "      <td>0</td>\n",
       "      <td>102</td>\n",
       "      <td>2017</td>\n",
       "      <td>August</td>\n",
       "      <td>35</td>\n",
       "      <td>31</td>\n",
       "      <td>2</td>\n",
       "      <td>5</td>\n",
       "      <td>3</td>\n",
       "      <td>...</td>\n",
       "      <td>0</td>\n",
       "      <td>2</td>\n",
       "      <td>Check-Out</td>\n",
       "      <td>2017-09-07</td>\n",
       "      <td>Wesley Aguilar</td>\n",
       "      <td>WAguilar@xfinity.com</td>\n",
       "      <td>238-763-0612</td>\n",
       "      <td>************4333</td>\n",
       "      <td>1578.01</td>\n",
       "      <td>Aguilar</td>\n",
       "    </tr>\n",
       "    <tr>\n",
       "      <th>119387</th>\n",
       "      <td>City Hotel</td>\n",
       "      <td>0</td>\n",
       "      <td>34</td>\n",
       "      <td>2017</td>\n",
       "      <td>August</td>\n",
       "      <td>35</td>\n",
       "      <td>31</td>\n",
       "      <td>2</td>\n",
       "      <td>5</td>\n",
       "      <td>2</td>\n",
       "      <td>...</td>\n",
       "      <td>0</td>\n",
       "      <td>4</td>\n",
       "      <td>Check-Out</td>\n",
       "      <td>2017-09-07</td>\n",
       "      <td>Mary Morales</td>\n",
       "      <td>Mary_Morales@hotmail.com</td>\n",
       "      <td>395-518-4100</td>\n",
       "      <td>************1821</td>\n",
       "      <td>1103.97</td>\n",
       "      <td>Morales</td>\n",
       "    </tr>\n",
       "    <tr>\n",
       "      <th>119388</th>\n",
       "      <td>City Hotel</td>\n",
       "      <td>0</td>\n",
       "      <td>109</td>\n",
       "      <td>2017</td>\n",
       "      <td>August</td>\n",
       "      <td>35</td>\n",
       "      <td>31</td>\n",
       "      <td>2</td>\n",
       "      <td>5</td>\n",
       "      <td>2</td>\n",
       "      <td>...</td>\n",
       "      <td>0</td>\n",
       "      <td>0</td>\n",
       "      <td>Check-Out</td>\n",
       "      <td>2017-09-07</td>\n",
       "      <td>Caroline Conley MD</td>\n",
       "      <td>MD_Caroline@comcast.net</td>\n",
       "      <td>531-528-1017</td>\n",
       "      <td>************7860</td>\n",
       "      <td>730.80</td>\n",
       "      <td>MD</td>\n",
       "    </tr>\n",
       "    <tr>\n",
       "      <th>119389</th>\n",
       "      <td>City Hotel</td>\n",
       "      <td>0</td>\n",
       "      <td>205</td>\n",
       "      <td>2017</td>\n",
       "      <td>August</td>\n",
       "      <td>35</td>\n",
       "      <td>29</td>\n",
       "      <td>2</td>\n",
       "      <td>7</td>\n",
       "      <td>2</td>\n",
       "      <td>...</td>\n",
       "      <td>0</td>\n",
       "      <td>2</td>\n",
       "      <td>Check-Out</td>\n",
       "      <td>2017-09-07</td>\n",
       "      <td>Ariana Michael</td>\n",
       "      <td>Ariana_M@xfinity.com</td>\n",
       "      <td>422-804-6403</td>\n",
       "      <td>************4482</td>\n",
       "      <td>1360.80</td>\n",
       "      <td>Michael</td>\n",
       "    </tr>\n",
       "  </tbody>\n",
       "</table>\n",
       "<p>119390 rows × 37 columns</p>\n",
       "</div>"
      ],
      "text/plain": [
       "               hotel  is_canceled  lead_time  arrival_date_year  \\\n",
       "0       Resort Hotel            0        342               2015   \n",
       "1       Resort Hotel            0        737               2015   \n",
       "2       Resort Hotel            0          7               2015   \n",
       "3       Resort Hotel            0         13               2015   \n",
       "4       Resort Hotel            0         14               2015   \n",
       "...              ...          ...        ...                ...   \n",
       "119385    City Hotel            0         23               2017   \n",
       "119386    City Hotel            0        102               2017   \n",
       "119387    City Hotel            0         34               2017   \n",
       "119388    City Hotel            0        109               2017   \n",
       "119389    City Hotel            0        205               2017   \n",
       "\n",
       "       arrival_date_month  arrival_date_week_number  \\\n",
       "0                    July                        27   \n",
       "1                    July                        27   \n",
       "2                    July                        27   \n",
       "3                    July                        27   \n",
       "4                    July                        27   \n",
       "...                   ...                       ...   \n",
       "119385             August                        35   \n",
       "119386             August                        35   \n",
       "119387             August                        35   \n",
       "119388             August                        35   \n",
       "119389             August                        35   \n",
       "\n",
       "        arrival_date_day_of_month  stays_in_weekend_nights  \\\n",
       "0                               1                        0   \n",
       "1                               1                        0   \n",
       "2                               1                        0   \n",
       "3                               1                        0   \n",
       "4                               1                        0   \n",
       "...                           ...                      ...   \n",
       "119385                         30                        2   \n",
       "119386                         31                        2   \n",
       "119387                         31                        2   \n",
       "119388                         31                        2   \n",
       "119389                         29                        2   \n",
       "\n",
       "        stays_in_week_nights  adults  ...  required_car_parking_spaces  \\\n",
       "0                          0       2  ...                            0   \n",
       "1                          0       2  ...                            0   \n",
       "2                          1       1  ...                            0   \n",
       "3                          1       1  ...                            0   \n",
       "4                          2       2  ...                            0   \n",
       "...                      ...     ...  ...                          ...   \n",
       "119385                     5       2  ...                            0   \n",
       "119386                     5       3  ...                            0   \n",
       "119387                     5       2  ...                            0   \n",
       "119388                     5       2  ...                            0   \n",
       "119389                     7       2  ...                            0   \n",
       "\n",
       "        total_of_special_requests reservation_status reservation_status_date  \\\n",
       "0                               0          Check-Out              2015-07-01   \n",
       "1                               0          Check-Out              2015-07-01   \n",
       "2                               0          Check-Out              2015-07-02   \n",
       "3                               0          Check-Out              2015-07-02   \n",
       "4                               1          Check-Out              2015-07-03   \n",
       "...                           ...                ...                     ...   \n",
       "119385                          0          Check-Out              2017-09-06   \n",
       "119386                          2          Check-Out              2017-09-07   \n",
       "119387                          4          Check-Out              2017-09-07   \n",
       "119388                          0          Check-Out              2017-09-07   \n",
       "119389                          2          Check-Out              2017-09-07   \n",
       "\n",
       "                      name                        email  phone-number  \\\n",
       "0            Ernest Barnes  Ernest.Barnes31@outlook.com  669-792-1661   \n",
       "1             Andrea Baker       Andrea_Baker94@aol.com  858-637-6955   \n",
       "2           Rebecca Parker   Rebecca_Parker@comcast.net  652-885-2745   \n",
       "3             Laura Murray            Laura_M@gmail.com  364-656-8427   \n",
       "4              Linda Hines           LHines@verizon.com  713-226-5883   \n",
       "...                    ...                          ...           ...   \n",
       "119385     Claudia Johnson          Claudia.J@yahoo.com  403-092-5582   \n",
       "119386      Wesley Aguilar         WAguilar@xfinity.com  238-763-0612   \n",
       "119387        Mary Morales     Mary_Morales@hotmail.com  395-518-4100   \n",
       "119388  Caroline Conley MD      MD_Caroline@comcast.net  531-528-1017   \n",
       "119389      Ariana Michael         Ariana_M@xfinity.com  422-804-6403   \n",
       "\n",
       "             credit_card  average_total_cost last_names  \n",
       "0       ************4322                0.00     Barnes  \n",
       "1       ************9157                0.00      Baker  \n",
       "2       ************3734               75.00     Parker  \n",
       "3       ************5677               75.00     Murray  \n",
       "4       ************5498              196.00      Hines  \n",
       "...                  ...                 ...        ...  \n",
       "119385  ************8647              672.98    Johnson  \n",
       "119386  ************4333             1578.01    Aguilar  \n",
       "119387  ************1821             1103.97    Morales  \n",
       "119388  ************7860              730.80         MD  \n",
       "119389  ************4482             1360.80    Michael  \n",
       "\n",
       "[119390 rows x 37 columns]"
      ]
     },
     "execution_count": 49,
     "metadata": {},
     "output_type": "execute_result"
    }
   ],
   "source": [
    "hotel.assign(last_names = last_name)"
   ]
  },
  {
   "cell_type": "code",
   "execution_count": 50,
   "id": "ceb7a42c",
   "metadata": {},
   "outputs": [
    {
     "data": {
      "text/plain": [
       "Michael Johnson      48\n",
       "Robert Smith         48\n",
       "Michael Smith        47\n",
       "John Smith           46\n",
       "Christopher Smith    44\n",
       "                     ..\n",
       "Timothy Lane          1\n",
       "Jimmy Griffin         1\n",
       "Colleen Kelly         1\n",
       "Lucas Young           1\n",
       "Ariana Michael        1\n",
       "Name: name, Length: 81503, dtype: int64"
      ]
     },
     "execution_count": 50,
     "metadata": {},
     "output_type": "execute_result"
    }
   ],
   "source": [
    "hotel['name'].value_counts()"
   ]
  },
  {
   "cell_type": "code",
   "execution_count": 51,
   "id": "6f0bc0ad",
   "metadata": {},
   "outputs": [
    {
     "data": {
      "text/plain": [
       "['ArrowDtype',\n",
       " 'BooleanDtype',\n",
       " 'Categorical',\n",
       " 'CategoricalDtype',\n",
       " 'CategoricalIndex',\n",
       " 'DataFrame',\n",
       " 'DateOffset',\n",
       " 'DatetimeIndex',\n",
       " 'DatetimeTZDtype',\n",
       " 'ExcelFile',\n",
       " 'ExcelWriter',\n",
       " 'Flags',\n",
       " 'Float32Dtype',\n",
       " 'Float64Dtype',\n",
       " 'Float64Index',\n",
       " 'Grouper',\n",
       " 'HDFStore',\n",
       " 'Index',\n",
       " 'IndexSlice',\n",
       " 'Int16Dtype',\n",
       " 'Int32Dtype',\n",
       " 'Int64Dtype',\n",
       " 'Int64Index',\n",
       " 'Int8Dtype',\n",
       " 'Interval',\n",
       " 'IntervalDtype',\n",
       " 'IntervalIndex',\n",
       " 'MultiIndex',\n",
       " 'NA',\n",
       " 'NaT',\n",
       " 'NamedAgg',\n",
       " 'Period',\n",
       " 'PeriodDtype',\n",
       " 'PeriodIndex',\n",
       " 'RangeIndex',\n",
       " 'Series',\n",
       " 'SparseDtype',\n",
       " 'StringDtype',\n",
       " 'Timedelta',\n",
       " 'TimedeltaIndex',\n",
       " 'Timestamp',\n",
       " 'UInt16Dtype',\n",
       " 'UInt32Dtype',\n",
       " 'UInt64Dtype',\n",
       " 'UInt64Index',\n",
       " 'UInt8Dtype',\n",
       " '__all__',\n",
       " '__builtins__',\n",
       " '__cached__',\n",
       " '__deprecated_num_index_names',\n",
       " '__dir__',\n",
       " '__doc__',\n",
       " '__docformat__',\n",
       " '__file__',\n",
       " '__getattr__',\n",
       " '__git_version__',\n",
       " '__loader__',\n",
       " '__name__',\n",
       " '__package__',\n",
       " '__path__',\n",
       " '__spec__',\n",
       " '__version__',\n",
       " '_config',\n",
       " '_is_numpy_dev',\n",
       " '_libs',\n",
       " '_testing',\n",
       " '_typing',\n",
       " '_version',\n",
       " 'annotations',\n",
       " 'api',\n",
       " 'array',\n",
       " 'arrays',\n",
       " 'bdate_range',\n",
       " 'compat',\n",
       " 'concat',\n",
       " 'core',\n",
       " 'crosstab',\n",
       " 'cut',\n",
       " 'date_range',\n",
       " 'describe_option',\n",
       " 'errors',\n",
       " 'eval',\n",
       " 'factorize',\n",
       " 'from_dummies',\n",
       " 'get_dummies',\n",
       " 'get_option',\n",
       " 'infer_freq',\n",
       " 'interval_range',\n",
       " 'io',\n",
       " 'isna',\n",
       " 'isnull',\n",
       " 'json_normalize',\n",
       " 'lreshape',\n",
       " 'melt',\n",
       " 'merge',\n",
       " 'merge_asof',\n",
       " 'merge_ordered',\n",
       " 'notna',\n",
       " 'notnull',\n",
       " 'offsets',\n",
       " 'option_context',\n",
       " 'options',\n",
       " 'pandas',\n",
       " 'period_range',\n",
       " 'pivot',\n",
       " 'pivot_table',\n",
       " 'plotting',\n",
       " 'qcut',\n",
       " 'read_clipboard',\n",
       " 'read_csv',\n",
       " 'read_excel',\n",
       " 'read_feather',\n",
       " 'read_fwf',\n",
       " 'read_gbq',\n",
       " 'read_hdf',\n",
       " 'read_html',\n",
       " 'read_json',\n",
       " 'read_orc',\n",
       " 'read_parquet',\n",
       " 'read_pickle',\n",
       " 'read_sas',\n",
       " 'read_spss',\n",
       " 'read_sql',\n",
       " 'read_sql_query',\n",
       " 'read_sql_table',\n",
       " 'read_stata',\n",
       " 'read_table',\n",
       " 'read_xml',\n",
       " 'reset_option',\n",
       " 'set_eng_float_format',\n",
       " 'set_option',\n",
       " 'show_versions',\n",
       " 'test',\n",
       " 'testing',\n",
       " 'timedelta_range',\n",
       " 'to_datetime',\n",
       " 'to_numeric',\n",
       " 'to_pickle',\n",
       " 'to_timedelta',\n",
       " 'tseries',\n",
       " 'unique',\n",
       " 'util',\n",
       " 'value_counts',\n",
       " 'wide_to_long']"
      ]
     },
     "execution_count": 51,
     "metadata": {},
     "output_type": "execute_result"
    }
   ],
   "source": [
    "dir(pd)"
   ]
  },
  {
   "cell_type": "code",
   "execution_count": 52,
   "id": "801a75fd",
   "metadata": {},
   "outputs": [
    {
     "data": {
      "text/plain": [
       "Index(['hotel', 'is_canceled', 'lead_time', 'arrival_date_year',\n",
       "       'arrival_date_month', 'arrival_date_week_number',\n",
       "       'arrival_date_day_of_month', 'stays_in_weekend_nights',\n",
       "       'stays_in_week_nights', 'adults', 'children', 'babies', 'meal',\n",
       "       'country', 'market_segment', 'distribution_channel',\n",
       "       'is_repeated_guest', 'previous_cancellations',\n",
       "       'previous_bookings_not_canceled', 'reserved_room_type',\n",
       "       'assigned_room_type', 'booking_changes', 'deposit_type', 'agent',\n",
       "       'days_in_waiting_list', 'customer_type', 'adr',\n",
       "       'required_car_parking_spaces', 'total_of_special_requests',\n",
       "       'reservation_status', 'reservation_status_date', 'name', 'email',\n",
       "       'phone-number', 'credit_card', 'average_total_cost'],\n",
       "      dtype='object')"
      ]
     },
     "execution_count": 52,
     "metadata": {},
     "output_type": "execute_result"
    }
   ],
   "source": [
    "hotel.columns"
   ]
  },
  {
   "cell_type": "code",
   "execution_count": 53,
   "id": "d4b78518",
   "metadata": {},
   "outputs": [
    {
     "data": {
      "text/plain": [
       "(119390, 36)"
      ]
     },
     "execution_count": 53,
     "metadata": {},
     "output_type": "execute_result"
    }
   ],
   "source": [
    "hotel.shape"
   ]
  },
  {
   "cell_type": "code",
   "execution_count": 54,
   "id": "6ad0c2c1",
   "metadata": {},
   "outputs": [
    {
     "data": {
      "text/plain": [
       "array([ 1,  2,  3,  4,  5,  6,  7,  8,  9, 10, 11, 12, 13, 14, 15, 16, 17,\n",
       "       18, 19, 20, 21, 22, 23, 24, 25, 26, 27, 28, 29, 30, 31],\n",
       "      dtype=int64)"
      ]
     },
     "execution_count": 54,
     "metadata": {},
     "output_type": "execute_result"
    }
   ],
   "source": [
    "hotel['arrival_date_day_of_month'].unique()"
   ]
  },
  {
   "cell_type": "code",
   "execution_count": 55,
   "id": "5c9f755a",
   "metadata": {},
   "outputs": [],
   "source": [
    "#arrivals took place between 1st and 15th (both inclusive )of a month\n",
    "#optional: do it in a sigle line of code"
   ]
  },
  {
   "cell_type": "code",
   "execution_count": 56,
   "id": "d0bc62ad",
   "metadata": {},
   "outputs": [
    {
     "data": {
      "text/plain": [
       "58152"
      ]
     },
     "execution_count": 56,
     "metadata": {},
     "output_type": "execute_result"
    }
   ],
   "source": [
    "hotel['arrival_date_day_of_month'].apply(lambda x:x<=15).sum()"
   ]
  },
  {
   "cell_type": "code",
   "execution_count": 57,
   "id": "e943bcac",
   "metadata": {},
   "outputs": [
    {
     "data": {
      "text/plain": [
       "False    61238\n",
       "True     58152\n",
       "Name: arrival_date_day_of_month, dtype: int64"
      ]
     },
     "execution_count": 57,
     "metadata": {},
     "output_type": "execute_result"
    }
   ],
   "source": [
    "hotel['arrival_date_day_of_month'].apply(lambda x:x<=15).value_counts()"
   ]
  },
  {
   "cell_type": "code",
   "execution_count": 70,
   "id": "a383e263",
   "metadata": {},
   "outputs": [
    {
     "data": {
      "text/plain": [
       "0         669-792-1661\n",
       "1         858-637-6955\n",
       "2         652-885-2745\n",
       "3         364-656-8427\n",
       "4         713-226-5883\n",
       "              ...     \n",
       "119385    403-092-5582\n",
       "119386    238-763-0612\n",
       "119387    395-518-4100\n",
       "119388    531-528-1017\n",
       "119389    422-804-6403\n",
       "Name: phone-number, Length: 119390, dtype: object"
      ]
     },
     "execution_count": 70,
     "metadata": {},
     "output_type": "execute_result"
    }
   ],
   "source": [
    "hotel['phone-number']"
   ]
  },
  {
   "cell_type": "code",
   "execution_count": 59,
   "id": "dc11be00",
   "metadata": {},
   "outputs": [],
   "source": [
    "# Top 3 most common area code"
   ]
  },
  {
   "cell_type": "code",
   "execution_count": 66,
   "id": "a5145257",
   "metadata": {},
   "outputs": [
    {
     "data": {
      "text/plain": [
       "799    168\n",
       "185    167\n",
       "541    166\n",
       "739    163\n",
       "763    163\n",
       "Name: phone-number, dtype: int64"
      ]
     },
     "execution_count": 66,
     "metadata": {},
     "output_type": "execute_result"
    }
   ],
   "source": [
    "hotel['phone-number'].apply(lambda x: x[:3]).value_counts()[:5]"
   ]
  },
  {
   "cell_type": "code",
   "execution_count": 63,
   "id": "38d42326",
   "metadata": {},
   "outputs": [
    {
     "data": {
      "text/plain": [
       "799    168\n",
       "185    167\n",
       "541    166\n",
       "739    163\n",
       "763    163\n",
       "Name: phone-number, dtype: int64"
      ]
     },
     "execution_count": 63,
     "metadata": {},
     "output_type": "execute_result"
    }
   ],
   "source": [
    "hotel['phone-number'].apply(lambda x:str(x).split('-')[0]).value_counts()[:5]"
   ]
  },
  {
   "cell_type": "code",
   "execution_count": null,
   "id": "ab436876",
   "metadata": {},
   "outputs": [],
   "source": []
  },
  {
   "cell_type": "code",
   "execution_count": null,
   "id": "972a0454",
   "metadata": {},
   "outputs": [],
   "source": []
  },
  {
   "cell_type": "code",
   "execution_count": null,
   "id": "258935ea",
   "metadata": {},
   "outputs": [],
   "source": []
  },
  {
   "cell_type": "code",
   "execution_count": null,
   "id": "309b045b",
   "metadata": {},
   "outputs": [],
   "source": []
  },
  {
   "cell_type": "code",
   "execution_count": null,
   "id": "795149da",
   "metadata": {},
   "outputs": [],
   "source": []
  },
  {
   "cell_type": "code",
   "execution_count": null,
   "id": "fd31c6de",
   "metadata": {},
   "outputs": [],
   "source": []
  }
 ],
 "metadata": {
  "kernelspec": {
   "display_name": "Python 3 (ipykernel)",
   "language": "python",
   "name": "python3"
  },
  "language_info": {
   "codemirror_mode": {
    "name": "ipython",
    "version": 3
   },
   "file_extension": ".py",
   "mimetype": "text/x-python",
   "name": "python",
   "nbconvert_exporter": "python",
   "pygments_lexer": "ipython3",
   "version": "3.11.4"
  }
 },
 "nbformat": 4,
 "nbformat_minor": 5
}
