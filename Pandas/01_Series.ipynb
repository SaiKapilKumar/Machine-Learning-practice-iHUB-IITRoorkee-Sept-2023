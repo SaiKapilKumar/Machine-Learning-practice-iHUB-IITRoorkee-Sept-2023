{
 "cells": [
  {
   "cell_type": "markdown",
   "id": "5be1a335",
   "metadata": {},
   "source": [
    "# Introduction to Pandas\n",
    "\n",
    "Pandas is built on top of Numpy. Used in Data cleaning, analysis, preparation etc.\n",
    "\n",
    "# Series\n",
    "\n",
    "similar to Numpy array except series can have axis labels, can hold any arbitary Python object "
   ]
  },
  {
   "cell_type": "code",
   "execution_count": 1,
   "id": "7ffd1d16",
   "metadata": {},
   "outputs": [],
   "source": [
    "import numpy as np\n",
    "import pandas as pd"
   ]
  },
  {
   "cell_type": "code",
   "execution_count": 2,
   "id": "843c8669",
   "metadata": {},
   "outputs": [],
   "source": [
    "labels = ['a','b','c']\n",
    "lst = [1,2,3]\n",
    "arr = np.array([1,2,3])\n",
    "dic = {'a':1,\n",
    "       'b':2,\n",
    "       'c':3}"
   ]
  },
  {
   "cell_type": "code",
   "execution_count": 3,
   "id": "0ab18238",
   "metadata": {},
   "outputs": [
    {
     "data": {
      "text/plain": [
       "0    1\n",
       "1    2\n",
       "2    3\n",
       "dtype: int64"
      ]
     },
     "execution_count": 3,
     "metadata": {},
     "output_type": "execute_result"
    }
   ],
   "source": [
    "pd.Series(data = lst)"
   ]
  },
  {
   "cell_type": "code",
   "execution_count": 4,
   "id": "bf56ffd9",
   "metadata": {},
   "outputs": [
    {
     "data": {
      "text/plain": [
       "a    1\n",
       "b    2\n",
       "c    3\n",
       "dtype: int64"
      ]
     },
     "execution_count": 4,
     "metadata": {},
     "output_type": "execute_result"
    }
   ],
   "source": [
    "pd.Series(data = lst, index = labels)"
   ]
  },
  {
   "cell_type": "code",
   "execution_count": 5,
   "id": "65a0c23b",
   "metadata": {},
   "outputs": [
    {
     "data": {
      "text/plain": [
       "0    1\n",
       "1    2\n",
       "2    3\n",
       "dtype: int32"
      ]
     },
     "execution_count": 5,
     "metadata": {},
     "output_type": "execute_result"
    }
   ],
   "source": [
    "pd.Series(data = arr)"
   ]
  },
  {
   "cell_type": "code",
   "execution_count": 7,
   "id": "07a70426",
   "metadata": {},
   "outputs": [
    {
     "data": {
      "text/plain": [
       "a    1\n",
       "b    2\n",
       "c    3\n",
       "dtype: int64"
      ]
     },
     "execution_count": 7,
     "metadata": {},
     "output_type": "execute_result"
    }
   ],
   "source": [
    "pd.Series(lst, labels)"
   ]
  },
  {
   "cell_type": "code",
   "execution_count": 8,
   "id": "9b18c569",
   "metadata": {},
   "outputs": [
    {
     "data": {
      "text/plain": [
       "1    a\n",
       "2    b\n",
       "3    c\n",
       "dtype: object"
      ]
     },
     "execution_count": 8,
     "metadata": {},
     "output_type": "execute_result"
    }
   ],
   "source": [
    "pd.Series(labels, lst)"
   ]
  },
  {
   "cell_type": "code",
   "execution_count": 6,
   "id": "434d70aa",
   "metadata": {},
   "outputs": [
    {
     "data": {
      "text/plain": [
       "a    1\n",
       "b    2\n",
       "c    3\n",
       "dtype: int64"
      ]
     },
     "execution_count": 6,
     "metadata": {},
     "output_type": "execute_result"
    }
   ],
   "source": [
    "pd.Series(data = dic)"
   ]
  },
  {
   "cell_type": "code",
   "execution_count": 9,
   "id": "2b59269c",
   "metadata": {},
   "outputs": [
    {
     "data": {
      "text/plain": [
       "a    1\n",
       "b    2\n",
       "c    3\n",
       "dtype: int64"
      ]
     },
     "execution_count": 9,
     "metadata": {},
     "output_type": "execute_result"
    }
   ],
   "source": [
    "pd.Series(dic)"
   ]
  },
  {
   "cell_type": "code",
   "execution_count": 19,
   "id": "b5ddbe15",
   "metadata": {},
   "outputs": [],
   "source": [
    "ser1 = pd.Series(data = [10,20,30,40,50],\n",
    "                index = ['USA','b','India','d',1])"
   ]
  },
  {
   "cell_type": "code",
   "execution_count": 11,
   "id": "4cf67ef6",
   "metadata": {},
   "outputs": [
    {
     "data": {
      "text/plain": [
       "a    10\n",
       "b    20\n",
       "c    30\n",
       "d    40\n",
       "dtype: int64"
      ]
     },
     "execution_count": 11,
     "metadata": {},
     "output_type": "execute_result"
    }
   ],
   "source": [
    "ser1"
   ]
  },
  {
   "cell_type": "code",
   "execution_count": 12,
   "id": "c1cf1522",
   "metadata": {},
   "outputs": [
    {
     "data": {
      "text/plain": [
       "30"
      ]
     },
     "execution_count": 12,
     "metadata": {},
     "output_type": "execute_result"
    }
   ],
   "source": [
    "ser1['c']"
   ]
  },
  {
   "cell_type": "code",
   "execution_count": 20,
   "id": "d0a3ba29",
   "metadata": {},
   "outputs": [
    {
     "data": {
      "text/plain": [
       "USA        10\n",
       "Germany    20\n",
       "India      30\n",
       "Japan      40\n",
       "1          50\n",
       "dtype: int64"
      ]
     },
     "execution_count": 20,
     "metadata": {},
     "output_type": "execute_result"
    }
   ],
   "source": [
    "ser2 = pd.Series(data = [10,20,30,40,50],\n",
    "                index = ['USA','Germany','India','Japan',1])\n",
    "ser2"
   ]
  },
  {
   "cell_type": "code",
   "execution_count": 21,
   "id": "f952c3a3",
   "metadata": {},
   "outputs": [
    {
     "data": {
      "text/plain": [
       "1          100.0\n",
       "Germany      NaN\n",
       "India       60.0\n",
       "Japan        NaN\n",
       "USA         20.0\n",
       "b            NaN\n",
       "d            NaN\n",
       "dtype: float64"
      ]
     },
     "execution_count": 21,
     "metadata": {},
     "output_type": "execute_result"
    }
   ],
   "source": [
    "ser1 + ser2"
   ]
  },
  {
   "cell_type": "code",
   "execution_count": null,
   "id": "ce846d70",
   "metadata": {},
   "outputs": [],
   "source": []
  },
  {
   "cell_type": "code",
   "execution_count": null,
   "id": "a5df1e7b",
   "metadata": {},
   "outputs": [],
   "source": []
  }
 ],
 "metadata": {
  "kernelspec": {
   "display_name": "Python 3 (ipykernel)",
   "language": "python",
   "name": "python3"
  },
  "language_info": {
   "codemirror_mode": {
    "name": "ipython",
    "version": 3
   },
   "file_extension": ".py",
   "mimetype": "text/x-python",
   "name": "python",
   "nbconvert_exporter": "python",
   "pygments_lexer": "ipython3",
   "version": "3.11.4"
  }
 },
 "nbformat": 4,
 "nbformat_minor": 5
}
